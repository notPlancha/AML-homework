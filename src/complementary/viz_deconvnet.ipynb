{
 "cells": [
  {
   "cell_type": "code",
   "execution_count": null,
   "id": "c9338712",
   "metadata": {},
   "outputs": [
    {
     "name": "stderr",
     "output_type": "stream",
     "text": [
      "WARNING:absl:Compiled the loaded model, but the compiled metrics have yet to be built. `model.compile_metrics` will be empty until you train or evaluate the model.\n"
     ]
    },
    {
     "data": {
      "text/html": [
       "<pre style=\"white-space:pre;overflow-x:auto;line-height:normal;font-family:Menlo,'DejaVu Sans Mono',consolas,'Courier New',monospace\"><span style=\"font-weight: bold\">Model: \"sequential_2\"</span>\n",
       "</pre>\n"
      ],
      "text/plain": [
       "\u001b[1mModel: \"sequential_2\"\u001b[0m\n"
      ]
     },
     "metadata": {},
     "output_type": "display_data"
    },
    {
     "data": {
      "text/html": [
       "<pre style=\"white-space:pre;overflow-x:auto;line-height:normal;font-family:Menlo,'DejaVu Sans Mono',consolas,'Courier New',monospace\">┏━━━━━━━━━━━━━━━━━━━━━━━━━━━━━━━━━┳━━━━━━━━━━━━━━━━━━━━━━━━┳━━━━━━━━━━━━━━━┓\n",
       "┃<span style=\"font-weight: bold\"> Layer (type)                    </span>┃<span style=\"font-weight: bold\"> Output Shape           </span>┃<span style=\"font-weight: bold\">       Param # </span>┃\n",
       "┡━━━━━━━━━━━━━━━━━━━━━━━━━━━━━━━━━╇━━━━━━━━━━━━━━━━━━━━━━━━╇━━━━━━━━━━━━━━━┩\n",
       "│ rescaling_2 (<span style=\"color: #0087ff; text-decoration-color: #0087ff\">Rescaling</span>)         │ (<span style=\"color: #00d7ff; text-decoration-color: #00d7ff\">None</span>, <span style=\"color: #00af00; text-decoration-color: #00af00\">28</span>, <span style=\"color: #00af00; text-decoration-color: #00af00\">28</span>, <span style=\"color: #00af00; text-decoration-color: #00af00\">1</span>)      │             <span style=\"color: #00af00; text-decoration-color: #00af00\">0</span> │\n",
       "├─────────────────────────────────┼────────────────────────┼───────────────┤\n",
       "│ conv2d_6 (<span style=\"color: #0087ff; text-decoration-color: #0087ff\">Conv2D</span>)               │ (<span style=\"color: #00d7ff; text-decoration-color: #00d7ff\">None</span>, <span style=\"color: #00af00; text-decoration-color: #00af00\">28</span>, <span style=\"color: #00af00; text-decoration-color: #00af00\">28</span>, <span style=\"color: #00af00; text-decoration-color: #00af00\">32</span>)     │           <span style=\"color: #00af00; text-decoration-color: #00af00\">320</span> │\n",
       "├─────────────────────────────────┼────────────────────────┼───────────────┤\n",
       "│ max_pooling2d_6 (<span style=\"color: #0087ff; text-decoration-color: #0087ff\">MaxPooling2D</span>)  │ (<span style=\"color: #00d7ff; text-decoration-color: #00d7ff\">None</span>, <span style=\"color: #00af00; text-decoration-color: #00af00\">14</span>, <span style=\"color: #00af00; text-decoration-color: #00af00\">14</span>, <span style=\"color: #00af00; text-decoration-color: #00af00\">32</span>)     │             <span style=\"color: #00af00; text-decoration-color: #00af00\">0</span> │\n",
       "├─────────────────────────────────┼────────────────────────┼───────────────┤\n",
       "│ conv2d_7 (<span style=\"color: #0087ff; text-decoration-color: #0087ff\">Conv2D</span>)               │ (<span style=\"color: #00d7ff; text-decoration-color: #00d7ff\">None</span>, <span style=\"color: #00af00; text-decoration-color: #00af00\">14</span>, <span style=\"color: #00af00; text-decoration-color: #00af00\">14</span>, <span style=\"color: #00af00; text-decoration-color: #00af00\">64</span>)     │        <span style=\"color: #00af00; text-decoration-color: #00af00\">18,496</span> │\n",
       "├─────────────────────────────────┼────────────────────────┼───────────────┤\n",
       "│ max_pooling2d_7 (<span style=\"color: #0087ff; text-decoration-color: #0087ff\">MaxPooling2D</span>)  │ (<span style=\"color: #00d7ff; text-decoration-color: #00d7ff\">None</span>, <span style=\"color: #00af00; text-decoration-color: #00af00\">7</span>, <span style=\"color: #00af00; text-decoration-color: #00af00\">7</span>, <span style=\"color: #00af00; text-decoration-color: #00af00\">64</span>)       │             <span style=\"color: #00af00; text-decoration-color: #00af00\">0</span> │\n",
       "├─────────────────────────────────┼────────────────────────┼───────────────┤\n",
       "│ conv2d_8 (<span style=\"color: #0087ff; text-decoration-color: #0087ff\">Conv2D</span>)               │ (<span style=\"color: #00d7ff; text-decoration-color: #00d7ff\">None</span>, <span style=\"color: #00af00; text-decoration-color: #00af00\">7</span>, <span style=\"color: #00af00; text-decoration-color: #00af00\">7</span>, <span style=\"color: #00af00; text-decoration-color: #00af00\">128</span>)      │        <span style=\"color: #00af00; text-decoration-color: #00af00\">73,856</span> │\n",
       "├─────────────────────────────────┼────────────────────────┼───────────────┤\n",
       "│ max_pooling2d_8 (<span style=\"color: #0087ff; text-decoration-color: #0087ff\">MaxPooling2D</span>)  │ (<span style=\"color: #00d7ff; text-decoration-color: #00d7ff\">None</span>, <span style=\"color: #00af00; text-decoration-color: #00af00\">3</span>, <span style=\"color: #00af00; text-decoration-color: #00af00\">3</span>, <span style=\"color: #00af00; text-decoration-color: #00af00\">128</span>)      │             <span style=\"color: #00af00; text-decoration-color: #00af00\">0</span> │\n",
       "├─────────────────────────────────┼────────────────────────┼───────────────┤\n",
       "│ flatten_2 (<span style=\"color: #0087ff; text-decoration-color: #0087ff\">Flatten</span>)             │ (<span style=\"color: #00d7ff; text-decoration-color: #00d7ff\">None</span>, <span style=\"color: #00af00; text-decoration-color: #00af00\">1152</span>)           │             <span style=\"color: #00af00; text-decoration-color: #00af00\">0</span> │\n",
       "├─────────────────────────────────┼────────────────────────┼───────────────┤\n",
       "│ dense_6 (<span style=\"color: #0087ff; text-decoration-color: #0087ff\">Dense</span>)                 │ (<span style=\"color: #00d7ff; text-decoration-color: #00d7ff\">None</span>, <span style=\"color: #00af00; text-decoration-color: #00af00\">128</span>)            │       <span style=\"color: #00af00; text-decoration-color: #00af00\">147,584</span> │\n",
       "├─────────────────────────────────┼────────────────────────┼───────────────┤\n",
       "│ dense_7 (<span style=\"color: #0087ff; text-decoration-color: #0087ff\">Dense</span>)                 │ (<span style=\"color: #00d7ff; text-decoration-color: #00d7ff\">None</span>, <span style=\"color: #00af00; text-decoration-color: #00af00\">64</span>)             │         <span style=\"color: #00af00; text-decoration-color: #00af00\">8,256</span> │\n",
       "├─────────────────────────────────┼────────────────────────┼───────────────┤\n",
       "│ dense_8 (<span style=\"color: #0087ff; text-decoration-color: #0087ff\">Dense</span>)                 │ (<span style=\"color: #00d7ff; text-decoration-color: #00d7ff\">None</span>, <span style=\"color: #00af00; text-decoration-color: #00af00\">26</span>)             │         <span style=\"color: #00af00; text-decoration-color: #00af00\">1,690</span> │\n",
       "└─────────────────────────────────┴────────────────────────┴───────────────┘\n",
       "</pre>\n"
      ],
      "text/plain": [
       "┏━━━━━━━━━━━━━━━━━━━━━━━━━━━━━━━━━┳━━━━━━━━━━━━━━━━━━━━━━━━┳━━━━━━━━━━━━━━━┓\n",
       "┃\u001b[1m \u001b[0m\u001b[1mLayer (type)                   \u001b[0m\u001b[1m \u001b[0m┃\u001b[1m \u001b[0m\u001b[1mOutput Shape          \u001b[0m\u001b[1m \u001b[0m┃\u001b[1m \u001b[0m\u001b[1m      Param #\u001b[0m\u001b[1m \u001b[0m┃\n",
       "┡━━━━━━━━━━━━━━━━━━━━━━━━━━━━━━━━━╇━━━━━━━━━━━━━━━━━━━━━━━━╇━━━━━━━━━━━━━━━┩\n",
       "│ rescaling_2 (\u001b[38;5;33mRescaling\u001b[0m)         │ (\u001b[38;5;45mNone\u001b[0m, \u001b[38;5;34m28\u001b[0m, \u001b[38;5;34m28\u001b[0m, \u001b[38;5;34m1\u001b[0m)      │             \u001b[38;5;34m0\u001b[0m │\n",
       "├─────────────────────────────────┼────────────────────────┼───────────────┤\n",
       "│ conv2d_6 (\u001b[38;5;33mConv2D\u001b[0m)               │ (\u001b[38;5;45mNone\u001b[0m, \u001b[38;5;34m28\u001b[0m, \u001b[38;5;34m28\u001b[0m, \u001b[38;5;34m32\u001b[0m)     │           \u001b[38;5;34m320\u001b[0m │\n",
       "├─────────────────────────────────┼────────────────────────┼───────────────┤\n",
       "│ max_pooling2d_6 (\u001b[38;5;33mMaxPooling2D\u001b[0m)  │ (\u001b[38;5;45mNone\u001b[0m, \u001b[38;5;34m14\u001b[0m, \u001b[38;5;34m14\u001b[0m, \u001b[38;5;34m32\u001b[0m)     │             \u001b[38;5;34m0\u001b[0m │\n",
       "├─────────────────────────────────┼────────────────────────┼───────────────┤\n",
       "│ conv2d_7 (\u001b[38;5;33mConv2D\u001b[0m)               │ (\u001b[38;5;45mNone\u001b[0m, \u001b[38;5;34m14\u001b[0m, \u001b[38;5;34m14\u001b[0m, \u001b[38;5;34m64\u001b[0m)     │        \u001b[38;5;34m18,496\u001b[0m │\n",
       "├─────────────────────────────────┼────────────────────────┼───────────────┤\n",
       "│ max_pooling2d_7 (\u001b[38;5;33mMaxPooling2D\u001b[0m)  │ (\u001b[38;5;45mNone\u001b[0m, \u001b[38;5;34m7\u001b[0m, \u001b[38;5;34m7\u001b[0m, \u001b[38;5;34m64\u001b[0m)       │             \u001b[38;5;34m0\u001b[0m │\n",
       "├─────────────────────────────────┼────────────────────────┼───────────────┤\n",
       "│ conv2d_8 (\u001b[38;5;33mConv2D\u001b[0m)               │ (\u001b[38;5;45mNone\u001b[0m, \u001b[38;5;34m7\u001b[0m, \u001b[38;5;34m7\u001b[0m, \u001b[38;5;34m128\u001b[0m)      │        \u001b[38;5;34m73,856\u001b[0m │\n",
       "├─────────────────────────────────┼────────────────────────┼───────────────┤\n",
       "│ max_pooling2d_8 (\u001b[38;5;33mMaxPooling2D\u001b[0m)  │ (\u001b[38;5;45mNone\u001b[0m, \u001b[38;5;34m3\u001b[0m, \u001b[38;5;34m3\u001b[0m, \u001b[38;5;34m128\u001b[0m)      │             \u001b[38;5;34m0\u001b[0m │\n",
       "├─────────────────────────────────┼────────────────────────┼───────────────┤\n",
       "│ flatten_2 (\u001b[38;5;33mFlatten\u001b[0m)             │ (\u001b[38;5;45mNone\u001b[0m, \u001b[38;5;34m1152\u001b[0m)           │             \u001b[38;5;34m0\u001b[0m │\n",
       "├─────────────────────────────────┼────────────────────────┼───────────────┤\n",
       "│ dense_6 (\u001b[38;5;33mDense\u001b[0m)                 │ (\u001b[38;5;45mNone\u001b[0m, \u001b[38;5;34m128\u001b[0m)            │       \u001b[38;5;34m147,584\u001b[0m │\n",
       "├─────────────────────────────────┼────────────────────────┼───────────────┤\n",
       "│ dense_7 (\u001b[38;5;33mDense\u001b[0m)                 │ (\u001b[38;5;45mNone\u001b[0m, \u001b[38;5;34m64\u001b[0m)             │         \u001b[38;5;34m8,256\u001b[0m │\n",
       "├─────────────────────────────────┼────────────────────────┼───────────────┤\n",
       "│ dense_8 (\u001b[38;5;33mDense\u001b[0m)                 │ (\u001b[38;5;45mNone\u001b[0m, \u001b[38;5;34m26\u001b[0m)             │         \u001b[38;5;34m1,690\u001b[0m │\n",
       "└─────────────────────────────────┴────────────────────────┴───────────────┘\n"
      ]
     },
     "metadata": {},
     "output_type": "display_data"
    },
    {
     "data": {
      "text/html": [
       "<pre style=\"white-space:pre;overflow-x:auto;line-height:normal;font-family:Menlo,'DejaVu Sans Mono',consolas,'Courier New',monospace\"><span style=\"font-weight: bold\"> Total params: </span><span style=\"color: #00af00; text-decoration-color: #00af00\">250,204</span> (977.36 KB)\n",
       "</pre>\n"
      ],
      "text/plain": [
       "\u001b[1m Total params: \u001b[0m\u001b[38;5;34m250,204\u001b[0m (977.36 KB)\n"
      ]
     },
     "metadata": {},
     "output_type": "display_data"
    },
    {
     "data": {
      "text/html": [
       "<pre style=\"white-space:pre;overflow-x:auto;line-height:normal;font-family:Menlo,'DejaVu Sans Mono',consolas,'Courier New',monospace\"><span style=\"font-weight: bold\"> Trainable params: </span><span style=\"color: #00af00; text-decoration-color: #00af00\">250,202</span> (977.35 KB)\n",
       "</pre>\n"
      ],
      "text/plain": [
       "\u001b[1m Trainable params: \u001b[0m\u001b[38;5;34m250,202\u001b[0m (977.35 KB)\n"
      ]
     },
     "metadata": {},
     "output_type": "display_data"
    },
    {
     "data": {
      "text/html": [
       "<pre style=\"white-space:pre;overflow-x:auto;line-height:normal;font-family:Menlo,'DejaVu Sans Mono',consolas,'Courier New',monospace\"><span style=\"font-weight: bold\"> Non-trainable params: </span><span style=\"color: #00af00; text-decoration-color: #00af00\">0</span> (0.00 B)\n",
       "</pre>\n"
      ],
      "text/plain": [
       "\u001b[1m Non-trainable params: \u001b[0m\u001b[38;5;34m0\u001b[0m (0.00 B)\n"
      ]
     },
     "metadata": {},
     "output_type": "display_data"
    },
    {
     "data": {
      "text/html": [
       "<pre style=\"white-space:pre;overflow-x:auto;line-height:normal;font-family:Menlo,'DejaVu Sans Mono',consolas,'Courier New',monospace\"><span style=\"font-weight: bold\"> Optimizer params: </span><span style=\"color: #00af00; text-decoration-color: #00af00\">2</span> (8.00 B)\n",
       "</pre>\n"
      ],
      "text/plain": [
       "\u001b[1m Optimizer params: \u001b[0m\u001b[38;5;34m2\u001b[0m (8.00 B)\n"
      ]
     },
     "metadata": {},
     "output_type": "display_data"
    }
   ],
   "source": [
    "# load keras with pytorch backend\n",
    "import os\n",
    "os.environ[\"KERAS_BACKEND\"] = \"torch\"\n",
    "import torch\n",
    "import keras\n",
    "from keras.models import load_model\n",
    "from pyprojroot import here\n",
    "\n",
    "model_keras = load_model(here('models/sign_language_mnist/CNN.h5'))\n",
    "\n",
    "\"\"\"\n",
    "keras.Sequential(\n",
    "  [\n",
    "    layers.Input(shape=(28, 28, 1)),\n",
    "    layers.Rescaling(1.0 / 255),\n",
    "    layers.Conv2D(2**5, (3, 3), activation=\"relu\", padding=\"same\"),\n",
    "    layers.MaxPooling2D((2, 2)),\n",
    "    layers.Conv2D(2**6, (3, 3), activation=\"relu\", padding=\"same\"),\n",
    "    layers.MaxPooling2D((2, 2)),\n",
    "    layers.Conv2D(2**7, (3, 3), activation=\"relu\", padding=\"same\"),\n",
    "    layers.MaxPooling2D((2, 2)),\n",
    "    layers.Flatten(),\n",
    "    layers.Dense(2**7, activation=\"relu\"),\n",
    "    layers.Dense(2**6, activation=\"relu\"),\n",
    "    layers.Dense(26, activation=\"softmax\"),\n",
    "  ]\n",
    ")\n",
    "\"\"\"\n",
    "\n",
    "model_keras.summary()\n",
    "\n",
    "\"\"\"\n",
    "┃ Layer (type)                    ┃ Output Shape           ┃       Param # ┃\n",
    "┡━━━━━━━━━━━━━━━━━━━━━━━━━━━━━━━━━╇━━━━━━━━━━━━━━━━━━━━━━━━╇━━━━━━━━━━━━━━━┩\n",
    "│ rescaling_2 (Rescaling)         │ (None, 28, 28, 1)      │             0 │\n",
    "├─────────────────────────────────┼────────────────────────┼───────────────┤\n",
    "│ conv2d_6 (Conv2D)               │ (None, 28, 28, 32)     │           320 │\n",
    "├─────────────────────────────────┼────────────────────────┼───────────────┤\n",
    "│ max_pooling2d_6 (MaxPooling2D)  │ (None, 14, 14, 32)     │             0 │\n",
    "├─────────────────────────────────┼────────────────────────┼───────────────┤\n",
    "│ conv2d_7 (Conv2D)               │ (None, 14, 14, 64)     │        18,496 │\n",
    "├─────────────────────────────────┼────────────────────────┼───────────────┤\n",
    "│ max_pooling2d_7 (MaxPooling2D)  │ (None, 7, 7, 64)       │             0 │\n",
    "├─────────────────────────────────┼────────────────────────┼───────────────┤\n",
    "│ conv2d_8 (Conv2D)               │ (None, 7, 7, 128)      │        73,856 │\n",
    "├─────────────────────────────────┼────────────────────────┼───────────────┤\n",
    "│ max_pooling2d_8 (MaxPooling2D)  │ (None, 3, 3, 128)      │             0 │\n",
    "├─────────────────────────────────┼────────────────────────┼───────────────┤\n",
    "│ flatten_2 (Flatten)             │ (None, 1152)           │             0 │\n",
    "├─────────────────────────────────┼────────────────────────┼───────────────┤\n",
    "│ dense_6 (Dense)                 │ (None, 128)            │       147,584 │\n",
    "├─────────────────────────────────┼────────────────────────┼───────────────┤\n",
    "│ dense_7 (Dense)                 │ (None, 64)             │         8,256 │\n",
    "├─────────────────────────────────┼────────────────────────┼───────────────┤\n",
    "│ dense_8 (Dense)                 │ (None, 26)             │         1,690 │\n",
    "└─────────────────────────────────┴────────────────────────┴───────────────┘\n",
    "\"\"\""
   ]
  },
  {
   "cell_type": "code",
   "execution_count": 33,
   "id": "4abc9224",
   "metadata": {},
   "outputs": [
    {
     "name": "stdout",
     "output_type": "stream",
     "text": [
      "CNN(\n",
      "  (conv): Sequential(\n",
      "    (0): Conv2d(1, 32, kernel_size=(3, 3), stride=(1, 1), padding=(1, 1))\n",
      "    (1): ReLU()\n",
      "    (2): MaxPool2d(kernel_size=2, stride=2, padding=0, dilation=1, ceil_mode=False)\n",
      "    (3): Conv2d(32, 64, kernel_size=(3, 3), stride=(1, 1), padding=(1, 1))\n",
      "    (4): ReLU()\n",
      "    (5): MaxPool2d(kernel_size=2, stride=2, padding=0, dilation=1, ceil_mode=False)\n",
      "    (6): Conv2d(64, 128, kernel_size=(3, 3), stride=(1, 1), padding=(1, 1))\n",
      "    (7): ReLU()\n",
      "    (8): MaxPool2d(kernel_size=2, stride=2, padding=0, dilation=1, ceil_mode=False)\n",
      "  )\n",
      "  (flatten): Flatten(start_dim=1, end_dim=-1)\n",
      "  (dense): Sequential(\n",
      "    (0): Linear(in_features=1152, out_features=128, bias=True)\n",
      "    (1): ReLU()\n",
      "    (2): Linear(in_features=128, out_features=64, bias=True)\n",
      "    (3): ReLU()\n",
      "    (4): Linear(in_features=64, out_features=26, bias=True)\n",
      "  )\n",
      ")\n"
     ]
    }
   ],
   "source": [
    "import torchvision\n",
    "import torch.nn as nn\n",
    "# reconstruct the model class in torch and transfer the weights\n",
    "class CNN(nn.Module):\n",
    "  def __init__(self):\n",
    "    super().__init__()\n",
    "    self.conv = nn.Sequential(\n",
    "      nn.Conv2d(1, 32, kernel_size=3, padding=1),  # (28, 28, 1) → (28, 28, 32)\n",
    "      nn.ReLU(),\n",
    "      nn.MaxPool2d(2),  # → (14, 14, 32)\n",
    "\n",
    "      nn.Conv2d(32, 64, kernel_size=3, padding=1),  # → (14, 14, 64)\n",
    "      nn.ReLU(),\n",
    "      nn.MaxPool2d(2),  # → (7, 7, 64)\n",
    "\n",
    "      nn.Conv2d(64, 128, kernel_size=3, padding=1),  # → (7, 7, 128)\n",
    "      nn.ReLU(),\n",
    "      nn.MaxPool2d(2),  # → (3, 3, 128)\n",
    "    )\n",
    "    self.flatten = nn.Flatten()\n",
    "    self.dense = nn.Sequential(\n",
    "      nn.Linear(128 * 3 * 3, 128),\n",
    "      nn.ReLU(),\n",
    "      nn.Linear(128, 64),\n",
    "      nn.ReLU(),\n",
    "      nn.Linear(64, 26),\n",
    "    )\n",
    "  \n",
    "  def forward(self, x):\n",
    "    x = self.conv(x)\n",
    "    x = self.flatten(x)\n",
    "    x = self.dense(x)\n",
    "    return x\n",
    "\n",
    "# create the model and transfer the weights\n",
    "model_torch = CNN()\n",
    "\"\"\" model.layers\n",
    "[<Rescaling name=rescaling_2, built=True>,\n",
    " <Conv2D name=conv2d_6, built=True>,\n",
    " <MaxPooling2D name=max_pooling2d_6, built=True>,\n",
    " <Conv2D name=conv2d_7, built=True>,\n",
    " <MaxPooling2D name=max_pooling2d_7, built=True>,\n",
    " <Conv2D name=conv2d_8, built=True>,\n",
    " <MaxPooling2D name=max_pooling2d_8, built=True>,\n",
    " <Flatten name=flatten_2, built=True>,\n",
    " <Dense name=dense_6, built=True>,\n",
    " <Dense name=dense_7, built=True>,\n",
    " <Dense name=dense_8, built=True>]\n",
    "\"\"\"\n",
    "# transfer weights from keras model to torch model (without for loop)\n",
    "model_torch.conv[0].weight.data = torch.from_numpy(model_keras.layers[1].get_weights()[0].transpose(3, 2, 0, 1))\n",
    "model_torch.conv[0].bias.data = torch.from_numpy(model_keras.layers[1].get_weights()[1])\n",
    "model_torch.conv[3].weight.data = torch.from_numpy(model_keras.layers[3].get_weights()[0].transpose(3, 2, 0, 1))\n",
    "model_torch.conv[3].bias.data = torch.from_numpy(model_keras.layers[3].get_weights()[1])\n",
    "model_torch.conv[6].weight.data = torch.from_numpy(model_keras.layers[5].get_weights()[0].transpose(3, 2, 0, 1))\n",
    "model_torch.conv[6].bias.data = torch.from_numpy(model_keras.layers[5].get_weights()[1])\n",
    "model_torch.dense[0].weight.data = torch.from_numpy(model_keras.layers[8].get_weights()[0].transpose(1, 0))\n",
    "model_torch.dense[0].bias.data = torch.from_numpy(model_keras.layers[8].get_weights()[1])\n",
    "model_torch.dense[2].weight.data = torch.from_numpy(model_keras.layers[9].get_weights()[0].transpose(1, 0))\n",
    "model_torch.dense[2].bias.data = torch.from_numpy(model_keras.layers[9].get_weights()[1])\n",
    "model_torch.dense[4].weight.data = torch.from_numpy(model_keras.layers[10].get_weights()[0].transpose(1, 0))\n",
    "model_torch.dense[4].bias.data = torch.from_numpy(model_keras.layers[10].get_weights()[1])\n",
    "# check the model\n",
    "print(model_torch)"
   ]
  },
  {
   "cell_type": "code",
   "execution_count": 34,
   "id": "77675bcd",
   "metadata": {},
   "outputs": [
    {
     "name": "stdout",
     "output_type": "stream",
     "text": [
      "Max difference in predictions: 0.9999347\n",
      "Are predictions close? False\n",
      "\n",
      "First sample predictions:\n",
      "Keras: [5.4543357e-27 1.5692821e-20 1.4949109e-09 6.3104268e-15 8.5250658e-16]\n",
      "PyTorch: [6.7521780e-11 9.5426440e-03 1.8989425e-07 8.0588194e-05 1.4928431e-05]\n"
     ]
    }
   ],
   "source": [
    "import pandas as pd\n",
    "import numpy as np\n",
    "import kagglehub\n",
    "\n",
    "# Load test data\n",
    "os.environ[\"KAGGLEHUB_CACHE\"] = str(here(\"data\"))\n",
    "path = kagglehub.dataset_download(\"datamunge/sign-language-mnist\")\n",
    "test_pd = pd.read_csv(os.path.join(path, \"sign_mnist_test/sign_mnist_test.csv\"))\n",
    "test_data = test_pd.drop(columns=[\"label\"]).to_numpy().reshape(-1, 28, 28, 1)\n",
    "\n",
    "# Take a small sample for testing\n",
    "sample_data = test_data[:5]\n",
    "\n",
    "# Get predictions from Keras model\n",
    "keras_pred = model_keras.predict(sample_data, verbose=0)\n",
    "\n",
    "# Get predictions from PyTorch model\n",
    "model_torch.eval()\n",
    "with torch.no_grad():\n",
    "    # Fix: Convert properly to PyTorch format\n",
    "    # Remove the preprocessing from forward pass and do it manually\n",
    "    torch_input = sample_data.squeeze(-1).astype(np.float32) / 255.0  # Normalize manually\n",
    "    torch_input = torch.from_numpy(torch_input).unsqueeze(1)  # Add channel dimension: (N, 1, H, W)\n",
    "    \n",
    "    # Get raw logits (before softmax) to match Keras output\n",
    "    torch_logits = model_torch.conv(torch_input)\n",
    "    torch_logits = model_torch.flatten(torch_logits)\n",
    "    torch_logits = model_torch.dense(torch_logits)\n",
    "    torch_pred = torch.softmax(torch_logits, dim=1).numpy()\n",
    "\n",
    "# Compare predictions\n",
    "print(\"Max difference in predictions:\", np.max(np.abs(keras_pred - torch_pred)))\n",
    "print(\"Are predictions close?\", np.allclose(keras_pred, torch_pred, atol=1e-5))\n",
    "print(\"\\nFirst sample predictions:\")\n",
    "print(\"Keras:\", keras_pred[0][:5])\n",
    "print(\"PyTorch:\", torch_pred[0][:5])"
   ]
  }
 ],
 "metadata": {
  "kernelspec": {
   "display_name": "gpu",
   "language": "python",
   "name": "python3"
  },
  "language_info": {
   "codemirror_mode": {
    "name": "ipython",
    "version": 3
   },
   "file_extension": ".py",
   "mimetype": "text/x-python",
   "name": "python",
   "nbconvert_exporter": "python",
   "pygments_lexer": "ipython3",
   "version": "3.12.10"
  }
 },
 "nbformat": 4,
 "nbformat_minor": 5
}
