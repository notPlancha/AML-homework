{
 "cells": [
  {
   "cell_type": "code",
   "execution_count": 1,
   "id": "b2367e33",
   "metadata": {},
   "outputs": [
    {
     "name": "stderr",
     "output_type": "stream",
     "text": [
      "c:\\Users\\Plancha\\Desktop\\AML-homework\\.pixi\\envs\\gpu\\Lib\\site-packages\\transformers\\utils\\hub.py:111: FutureWarning: Using `TRANSFORMERS_CACHE` is deprecated and will be removed in v5 of Transformers. Use `HF_HOME` instead.\n",
      "  warnings.warn(\n"
     ]
    },
    {
     "data": {
      "text/plain": [
       "GPT2LMHeadModel(\n",
       "  (transformer): GPT2Model(\n",
       "    (wte): Embedding(50257, 768)\n",
       "    (wpe): Embedding(1024, 768)\n",
       "    (drop): Dropout(p=0.1, inplace=False)\n",
       "    (h): ModuleList(\n",
       "      (0-11): 12 x GPT2Block(\n",
       "        (ln_1): LayerNorm((768,), eps=1e-05, elementwise_affine=True)\n",
       "        (attn): GPT2Attention(\n",
       "          (c_attn): Conv1D(nf=2304, nx=768)\n",
       "          (c_proj): Conv1D(nf=768, nx=768)\n",
       "          (attn_dropout): Dropout(p=0.1, inplace=False)\n",
       "          (resid_dropout): Dropout(p=0.1, inplace=False)\n",
       "        )\n",
       "        (ln_2): LayerNorm((768,), eps=1e-05, elementwise_affine=True)\n",
       "        (mlp): GPT2MLP(\n",
       "          (c_fc): Conv1D(nf=3072, nx=768)\n",
       "          (c_proj): Conv1D(nf=768, nx=3072)\n",
       "          (act): NewGELUActivation()\n",
       "          (dropout): Dropout(p=0.1, inplace=False)\n",
       "        )\n",
       "      )\n",
       "    )\n",
       "    (ln_f): LayerNorm((768,), eps=1e-05, elementwise_affine=True)\n",
       "  )\n",
       "  (lm_head): Linear(in_features=768, out_features=50257, bias=False)\n",
       ")"
      ]
     },
     "execution_count": 1,
     "metadata": {},
     "output_type": "execute_result"
    }
   ],
   "source": [
    "import os\n",
    "from pyprojroot import here\n",
    "os.environ['TRANSFORMERS_CACHE'] = str(here(\"cache/transformers\"))\n",
    "\n",
    "from transformers import AutoModelForCausalLM, AutoTokenizer\n",
    "import torch\n",
    "\n",
    "model_name = \"openai-community/gpt2\"\n",
    "tokenizer = AutoTokenizer.from_pretrained(model_name)\n",
    "model = AutoModelForCausalLM.from_pretrained(model_name)\n",
    "model"
   ]
  },
  {
   "cell_type": "code",
   "execution_count": 2,
   "id": "59f1b192",
   "metadata": {},
   "outputs": [
    {
     "name": "stderr",
     "output_type": "stream",
     "text": [
      "The new embeddings will be initialized from a multivariate normal distribution that has old embeddings' mean and covariance. As described in this article: https://nlp.stanford.edu/~johnhew/vocab-expansion.html. To disable this, use `mean_resizing=False`\n"
     ]
    },
    {
     "name": "stdout",
     "output_type": "stream",
     "text": [
      "The future of artificial intelligence is still in its infancy. But the future is bright, and we are already well on our way.\n"
     ]
    }
   ],
   "source": [
    "# test one example\n",
    "model.eval()\n",
    "# Add padding token if not already present\n",
    "tokenizer.add_special_tokens({'pad_token': '<|pad|>'})\n",
    "model.resize_token_embeddings(len(tokenizer))\n",
    "\n",
    "# Generate text\n",
    "prompt = \"The future of artificial intelligence is\"\n",
    "inputs = tokenizer(prompt, return_tensors=\"pt\")\n",
    "\n",
    "# Generate with different parameters\n",
    "with torch.no_grad():\n",
    "  outputs = model.generate(\n",
    "    inputs.input_ids,\n",
    "    max_new_tokens=100,\n",
    "    eos_token_id=tokenizer.eos_token_id,\n",
    "    pad_token_id=tokenizer.pad_token_id,\n",
    "    do_sample=True,\n",
    "    temperature=0.7\n",
    "  )\n",
    "\n",
    "# Decode and display\n",
    "generated_text = tokenizer.decode(outputs[0], skip_special_tokens=True)\n",
    "print(generated_text)"
   ]
  },
  {
   "cell_type": "code",
   "execution_count": 3,
   "id": "e4084d5e",
   "metadata": {},
   "outputs": [
    {
     "data": {
      "text/plain": [
       "┌────────────────────────────────────────┬────────────────────────────────────────────────────────────────────────────────────────────────────────────────────────────────────────────────────────────────────────────────────────────────────────────────────────────────────────────────────────────────────────────────────────────────────────────────────────────────────────────────────────────────────────────────────────────────────────────────────────────────────────────────────────────────────────────────────────────────────────────────────────────────────────────────────────────────────────────────────────────────────────────────────────────────────────────────────────────────────────────────────────────────────────────────────────────────────────────────────────────────────────────────────────────────────────────────────────────────────────────────────────────────────────────────────────────────────────────────────────┐\n",
       "│                 title                  │                                                                                                                                                                                                                                                                                                                                                                                                                                                       directions                                                                                                                                                                                                                                                                                                                                                                                                                                                       │\n",
       "│                varchar                 │                                                                                                                                                                                                                                                                                                                                                                                                                                                       varchar[]                                                                                                                                                                                                                                                                                                                                                                                                                                                        │\n",
       "├────────────────────────────────────────┼────────────────────────────────────────────────────────────────────────────────────────────────────────────────────────────────────────────────────────────────────────────────────────────────────────────────────────────────────────────────────────────────────────────────────────────────────────────────────────────────────────────────────────────────────────────────────────────────────────────────────────────────────────────────────────────────────────────────────────────────────────────────────────────────────────────────────────────────────────────────────────────────────────────────────────────────────────────────────────────────────────────────────────────────────────────────────────────────────────────────────────────────────────────────────────────────────────────────────────────────────────────────────────────────────────────────────────────────────────────────────────┤\n",
       "│ No-Bake Nut Cookies                    │ ['In a heavy 2-quart saucepan, mix brown sugar, nuts, evaporated milk and butter or margarine.', Stir over medium heat until mixture bubbles all over top., Boil and stir 5 minutes more. Take off heat., Stir in vanilla and cereal; mix well., 'Using 2 teaspoons, drop and shape into 30 clusters on wax paper.', 'Let stand until firm, about 30 minutes.']                                                                                                                                                                                                                                                                                                                                                                                                                                                                                                                                                        │\n",
       "│ Jewell Ball'S Chicken                  │ [Place chipped beef on bottom of baking dish., Place chicken on top of beef., 'Mix soup and cream together; pour over chicken. Bake, uncovered, at 275u00b0 for 3 hours.']                                                                                                                                                                                                                                                                                                                                                                                                                                                                                                                                                                                                                                                                                                                                             │\n",
       "│ Creamy Corn                            │ ['In a slow cooker, combine all ingredients. Cover and cook on low for 4 hours or until heated through and cheese is melted. Stir well before serving. Yields 6 servings.']                                                                                                                                                                                                                                                                                                                                                                                                                                                                                                                                                                                                                                                                                                                                            │\n",
       "│ Chicken Funny                          │ [Boil and debone chicken., Put bite size pieces in average size square casserole dish., Pour gravy and cream of mushroom soup over chicken; level., 'Make stuffing according to instructions on box (do not make too moist).', Put stuffing on top of chicken and gravy; level., Sprinkle shredded cheese on top and bake at 350u00b0 for approximately 20 minutes or until golden and bubbly.]                                                                                                                                                                                                                                                                                                                                                                                                                                                                                                                        │\n",
       "│ Reeses Cups(Candy)                     │ [Combine first four ingredients and press in 13 x 9-inch ungreased pan., Melt chocolate chips and spread over mixture. Refrigerate for about 20 minutes and cut into pieces before chocolate gets hard., Keep in refrigerator.]                                                                                                                                                                                                                                                                                                                                                                                                                                                                                                                                                                                                                                                                                        │\n",
       "│ Cheeseburger Potato Soup               │ [Wash potatoes; prick several times with a fork., Microwave them with a wet paper towel covering the potatoes on high for 6-8 minutes., 'The potatoes should be soft, ready to eat.', Let them cool enough to handle., Cut in half lengthwise; scoop out pulp and reserve., Discard shells., Brown ground beef until done., Drain any grease from the meat., Set aside when done., Meat will be added later., 'Melt butter in a large kettle over low heat; add flour, stirring until smooth.', 'Cook 1 minute, stirring constantly. Gradually add milk; cook over medium heat, stirring constantly, until thickened and bubbly.', 'Stir in potato, ground beef, salt, pepper, 1 cup of cheese, 2 tablespoons of green onion and 1/2 cup of bacon.', 'Cook until heated (do not boil).', 'Stir in sour cream if desired; cook until heated (do not boil).', 'Sprinkle with remaining cheese, bacon and green onions.'] │\n",
       "│ Rhubarb Coffee Cake                    │ [Cream sugar and butter., Add egg and beat well., 'To creamed butter, sugar and egg, add alternately buttermilk with mixture of flour, salt and soda.', Mix well., Add rhubarb and vanilla., Pour into greased 9 x 13-inch pan and add Topping.]                                                                                                                                                                                                                                                                                                                                                                                                                                                                                                                                                                                                                                                                       │\n",
       "│ Scalloped Corn                         │ ['Mix together both cans of corn, crackers, egg, 2 teaspoons of melted butter and pepper and place in a buttered baking dish.', Dot with remaining 4 teaspoons of butter., Bake at 350u00b0 for 1 hour.]                                                                                                                                                                                                                                                                                                                                                                                                                                                                                                                                                                                                                                                                                                               │\n",
       "│ Nolan'S Pepper Steak                   │ [Roll steak strips in flour., Brown in skillet., Salt and pepper., 'Combine tomato liquid, water, onions and browned steak. Cover and simmer for one and a quarter hours.', Uncover and stir in Worcestershire sauce., 'Add tomatoes, green peppers and simmer for 5 minutes.', Serve over hot cooked rice.]                                                                                                                                                                                                                                                                                                                                                                                                                                                                                                                                                                                                           │\n",
       "│ Millionaire Pie                        │ [Empty Cool Whip into a bowl., Drain juice from pineapple., Mix Cool Whip and pineapple., Add condensed milk., 'Squeeze lemons, remove seeds and add to Cool Whip and pineapple.', Chop nuts into small pieces and add to mixture., Stir all ingredients together and mix well., Pour into a graham cracker crust., Use top from crust to cover top of pie., Chill overnight., Makes 2 pies.]                                                                                                                                                                                                                                                                                                                                                                                                                                                                                                                          │\n",
       "│        ·                               │                                                                               ·                                                                                                                                                                                                                                                                                                                                                                                                                                                                                                                                                                                                                                                                                                                                                                                                                                        │\n",
       "│        ·                               │                                                                               ·                                                                                                                                                                                                                                                                                                                                                                                                                                                                                                                                                                                                                                                                                                                                                                                                                                        │\n",
       "│        ·                               │                                                                               ·                                                                                                                                                                                                                                                                                                                                                                                                                                                                                                                                                                                                                                                                                                                                                                                                                                        │\n",
       "│ Mallow-Apple Dip                       │ [Let cream cheese soften at room temperature., Empty entire jar marshmallow cream into a bowl and add strawberry cream cheese. Beat until completely blended.]                                                                                                                                                                                                                                                                                                                                                                                                                                                                                                                                                                                                                                                                                                                                                         │\n",
       "│ Bailey'S Irish Creme                   │ [Mix in mixing bowl with electric mixer.]                                                                                                                                                                                                                                                                                                                                                                                                                                                                                                                                                                                                                                                                                                                                                                                                                                                                              │\n",
       "│ Date Filled Cookies                    │ [Combine all ingredients into a dough mixture., Put in freezer before cutting out with round cookie cutter., Flour cookie sheet.]                                                                                                                                                                                                                                                                                                                                                                                                                                                                                                                                                                                                                                                                                                                                                                                      │\n",
       "│ Chicken Divan                          │ [Spray large casserole dish with nonstick spray., Line bottom of dish with broccoli., Place chicken on top of broccoli.]                                                                                                                                                                                                                                                                                                                                                                                                                                                                                                                                                                                                                                                                                                                                                                                               │\n",
       "│ Romantic Raspberry Chocolate Meringues │ [Beat egg whites until they begin to get stiff., Add gelatin gradually blending thoroughly., 'Add sugar a little at a time, beating until stiff peaks form.', Beat in salt and vinegar., Fold in chocolate chips and nuts., Drop by half full teaspoons on foil-lined baking sheets., Bake 20 minutes at 250u00b0; turn off heat and leave in oven 3 hours without opening the door.]                                                                                                                                                                                                                                                                                                                                                                                                                                                                                                                                  │\n",
       "│ Pink Fruit Salad                       │ [Combine all ingredients and chill.]                                                                                                                                                                                                                                                                                                                                                                                                                                                                                                                                                                                                                                                                                                                                                                                                                                                                                   │\n",
       "│ Peppered Steak                         │ [Cut steaks into strips; brown in cooking oil., 'Add onion and pepper, chopped in strips.', Cover for 5 minutes., 'Add tomatoes and soy sauce, cook until thickened.', Serve over rice.]                                                                                                                                                                                                                                                                                                                                                                                                                                                                                                                                                                                                                                                                                                                               │\n",
       "│ Chicken Casserole                      │ [Stew and bone fryer., 'Saute in small amount margarine the onion, green pepper and celery.', Cook spaghetti and drain., 'Mix chicken, vegetables and spaghetti together and add remaining ingredients.', Bake at 425u00b0 for 25 to 40 minutes in a greased 9 x 13-inch pan., Ingredients may be increased to make this a casserole for a crowd.]                                                                                                                                                                                                                                                                                                                                                                                                                                                                                                                                                                     │\n",
       "│ Sweet Potatoes Casserole               │ [Mix together for 2 or 3 minutes. Put into greased casserole pan.]                                                                                                                                                                                                                                                                                                                                                                                                                                                                                                                                                                                                                                                                                                                                                                                                                                                     │\n",
       "│ 7 Layer Salad                          │ ['Layer each ingredients, prepared according to directions, in a clear, glass bowl.', Pour Ranch dressing over top to drizzle down over vegetables., Pretty to look at and good to eat.]                                                                                                                                                                                                                                                                                                                                                                                                                                                                                                                                                                                                                                                                                                                               │\n",
       "├────────────────────────────────────────┴────────────────────────────────────────────────────────────────────────────────────────────────────────────────────────────────────────────────────────────────────────────────────────────────────────────────────────────────────────────────────────────────────────────────────────────────────────────────────────────────────────────────────────────────────────────────────────────────────────────────────────────────────────────────────────────────────────────────────────────────────────────────────────────────────────────────────────────────────────────────────────────────────────────────────────────────────────────────────────────────────────────────────────────────────────────────────────────────────────────────────────────────────────────────────────────────────────────────────────────────────────────────────────────────────────────────────────────────────────────────────────┤\n",
       "│ ? rows (>9999 rows, 20 shown)                                                                                                                                                                                                                                                                                                                                                                                                                                                                                                                                                                                                                                                                                                                                                                                                                                                                                                                         2 columns │\n",
       "└─────────────────────────────────────────────────────────────────────────────────────────────────────────────────────────────────────────────────────────────────────────────────────────────────────────────────────────────────────────────────────────────────────────────────────────────────────────────────────────────────────────────────────────────────────────────────────────────────────────────────────────────────────────────────────────────────────────────────────────────────────────────────────────────────────────────────────────────────────────────────────────────────────────────────────────────────────────────────────────────────────────────────────────────────────────────────────────────────────────────────────────────────────────────────────────────────────────────────────────────────────────────────────────────────────────────────────────────────────────────────────────────────────────────────────────────────┘"
      ]
     },
     "execution_count": 3,
     "metadata": {},
     "output_type": "execute_result"
    }
   ],
   "source": [
    "# dataset from https://recipenlg.cs.put.poznan.pl/\n",
    "import pandas as pd\n",
    "import duckdb as sql\n",
    "data = sql.query(f\"\"\"\n",
    "  select title, directions\n",
    "  from read_csv(\n",
    "    '{here('data/recipeNLG/recipeNLG.csv')}', \n",
    "    header=True,\n",
    "    delim=',',\n",
    "    types = {{\n",
    "      'title': 'VARCHAR',\n",
    "      'ingredients': 'VARCHAR[]',\n",
    "      \"directions\": 'VARCHAR[]'\n",
    "    }}\n",
    "  )\n",
    "\"\"\")\n",
    "data"
   ]
  },
  {
   "cell_type": "code",
   "execution_count": 4,
   "id": "5c6fba3c",
   "metadata": {},
   "outputs": [
    {
     "data": {
      "text/plain": [
       "┌────────────────────────────────────────┬────────────────────────────────────────────────────────────────────────────────────────────────────────────────────────────────────────────────────────────────────────────────────────────────────────────────────────────────────────────────────────────────────────────────────────────────────────────────────────────────────────────────────────────────────────────────────────────────────────────────────────────────────────────────────────────────────────────────────────────────────────────────────────────────────────────────────────────────────────────────────────────────────────────────────────────────────────────────────────────────────────────────────────────────────────────────────────────────────────────────────────────────────────────────────────────────────────────────────────────────────────────────────────────────────────────────────────────────────────┐\n",
       "│                 title                  │                                                                                                                                                                                                                                                                                                                                                                                                                                               directions                                                                                                                                                                                                                                                                                                                                                                                                                                               │\n",
       "│                varchar                 │                                                                                                                                                                                                                                                                                                                                                                                                                                                varchar                                                                                                                                                                                                                                                                                                                                                                                                                                                 │\n",
       "├────────────────────────────────────────┼────────────────────────────────────────────────────────────────────────────────────────────────────────────────────────────────────────────────────────────────────────────────────────────────────────────────────────────────────────────────────────────────────────────────────────────────────────────────────────────────────────────────────────────────────────────────────────────────────────────────────────────────────────────────────────────────────────────────────────────────────────────────────────────────────────────────────────────────────────────────────────────────────────────────────────────────────────────────────────────────────────────────────────────────────────────────────────────────────────────────────────────────────────────────────────────────────────────────────────────────────────────────────────────────────────────────────────────────────────┤\n",
       "│ No-Bake Nut Cookies                    │ In a heavy 2-quart saucepan, mix brown sugar, nuts, evaporated milk and butter or margarine.\\nStir over medium heat until mixture bubbles all over top.\\nBoil and stir 5 minutes more. Take off heat.\\nStir in vanilla and cereal; mix well.\\nUsing 2 teaspoons, drop and shape into 30 clusters on wax paper.\\nLet stand until firm, about 30 minutes.                                                                                                                                                                                                                                                                                                                                                                                                                                                                                                                                                │\n",
       "│ Jewell Ball'S Chicken                  │ Place chipped beef on bottom of baking dish.\\nPlace chicken on top of beef.\\nMix soup and cream together; pour over chicken. Bake, uncovered, at 275u00b0 for 3 hours.                                                                                                                                                                                                                                                                                                                                                                                                                                                                                                                                                                                                                                                                                                                                 │\n",
       "│ Creamy Corn                            │ In a slow cooker, combine all ingredients. Cover and cook on low for 4 hours or until heated through and cheese is melted. Stir well before serving. Yields 6 servings.                                                                                                                                                                                                                                                                                                                                                                                                                                                                                                                                                                                                                                                                                                                                │\n",
       "│ Chicken Funny                          │ Boil and debone chicken.\\nPut bite size pieces in average size square casserole dish.\\nPour gravy and cream of mushroom soup over chicken; level.\\nMake stuffing according to instructions on box (do not make too moist).\\nPut stuffing on top of chicken and gravy; level.\\nSprinkle shredded cheese on top and bake at 350u00b0 for approximately 20 minutes or until golden and bubbly.                                                                                                                                                                                                                                                                                                                                                                                                                                                                                                            │\n",
       "│ Reeses Cups(Candy)                     │ Combine first four ingredients and press in 13 x 9-inch ungreased pan.\\nMelt chocolate chips and spread over mixture. Refrigerate for about 20 minutes and cut into pieces before chocolate gets hard.\\nKeep in refrigerator.                                                                                                                                                                                                                                                                                                                                                                                                                                                                                                                                                                                                                                                                          │\n",
       "│ Cheeseburger Potato Soup               │ Wash potatoes; prick several times with a fork.\\nMicrowave them with a wet paper towel covering the potatoes on high for 6-8 minutes.\\nThe potatoes should be soft, ready to eat.\\nLet them cool enough to handle.\\nCut in half lengthwise; scoop out pulp and reserve.\\nDiscard shells.\\nBrown ground beef until done.\\nDrain any grease from the meat.\\nSet aside when done.\\nMeat will be added later.\\nMelt butter in a large kettle over low heat; add flour, stirring until smooth.\\nCook 1 minute, stirring constantly. Gradually add milk; cook over medium heat, stirring constantly, until thickened and bubbly.\\nStir in potato, ground beef, salt, pepper, 1 cup of cheese, 2 tablespoons of green onion and 1/2 cup of bacon.\\nCook until heated (do not boil).\\nStir in sour cream if desired; cook until heated (do not boil).\\nSprinkle with remaining cheese, bacon and green onions. │\n",
       "│ Rhubarb Coffee Cake                    │ Cream sugar and butter.\\nAdd egg and beat well.\\nTo creamed butter, sugar and egg, add alternately buttermilk with mixture of flour, salt and soda.\\nMix well.\\nAdd rhubarb and vanilla.\\nPour into greased 9 x 13-inch pan and add Topping.                                                                                                                                                                                                                                                                                                                                                                                                                                                                                                                                                                                                                                                           │\n",
       "│ Scalloped Corn                         │ Mix together both cans of corn, crackers, egg, 2 teaspoons of melted butter and pepper and place in a buttered baking dish.\\nDot with remaining 4 teaspoons of butter.\\nBake at 350u00b0 for 1 hour.                                                                                                                                                                                                                                                                                                                                                                                                                                                                                                                                                                                                                                                                                                   │\n",
       "│ Nolan'S Pepper Steak                   │ Roll steak strips in flour.\\nBrown in skillet.\\nSalt and pepper.\\nCombine tomato liquid, water, onions and browned steak. Cover and simmer for one and a quarter hours.\\nUncover and stir in Worcestershire sauce.\\nAdd tomatoes, green peppers and simmer for 5 minutes.\\nServe over hot cooked rice.                                                                                                                                                                                                                                                                                                                                                                                                                                                                                                                                                                                                 │\n",
       "│ Millionaire Pie                        │ Empty Cool Whip into a bowl.\\nDrain juice from pineapple.\\nMix Cool Whip and pineapple.\\nAdd condensed milk.\\nSqueeze lemons, remove seeds and add to Cool Whip and pineapple.\\nChop nuts into small pieces and add to mixture.\\nStir all ingredients together and mix well.\\nPour into a graham cracker crust.\\nUse top from crust to cover top of pie.\\nChill overnight.\\nMakes 2 pies.                                                                                                                                                                                                                                                                                                                                                                                                                                                                                                              │\n",
       "│        ·                               │                                                                              ·                                                                                                                                                                                                                                                                                                                                                                                                                                                                                                                                                                                                                                                                                                                                                                                                                         │\n",
       "│        ·                               │                                                                              ·                                                                                                                                                                                                                                                                                                                                                                                                                                                                                                                                                                                                                                                                                                                                                                                                                         │\n",
       "│        ·                               │                                                                              ·                                                                                                                                                                                                                                                                                                                                                                                                                                                                                                                                                                                                                                                                                                                                                                                                                         │\n",
       "│ Mallow-Apple Dip                       │ Let cream cheese soften at room temperature.\\nEmpty entire jar marshmallow cream into a bowl and add strawberry cream cheese. Beat until completely blended.                                                                                                                                                                                                                                                                                                                                                                                                                                                                                                                                                                                                                                                                                                                                           │\n",
       "│ Bailey'S Irish Creme                   │ Mix in mixing bowl with electric mixer.                                                                                                                                                                                                                                                                                                                                                                                                                                                                                                                                                                                                                                                                                                                                                                                                                                                                │\n",
       "│ Date Filled Cookies                    │ Combine all ingredients into a dough mixture.\\nPut in freezer before cutting out with round cookie cutter.\\nFlour cookie sheet.                                                                                                                                                                                                                                                                                                                                                                                                                                                                                                                                                                                                                                                                                                                                                                        │\n",
       "│ Chicken Divan                          │ Spray large casserole dish with nonstick spray.\\nLine bottom of dish with broccoli.\\nPlace chicken on top of broccoli.                                                                                                                                                                                                                                                                                                                                                                                                                                                                                                                                                                                                                                                                                                                                                                                 │\n",
       "│ Romantic Raspberry Chocolate Meringues │ Beat egg whites until they begin to get stiff.\\nAdd gelatin gradually blending thoroughly.\\nAdd sugar a little at a time, beating until stiff peaks form.\\nBeat in salt and vinegar.\\nFold in chocolate chips and nuts.\\nDrop by half full teaspoons on foil-lined baking sheets.\\nBake 20 minutes at 250u00b0; turn off heat and leave in oven 3 hours without opening the door.                                                                                                                                                                                                                                                                                                                                                                                                                                                                                                                      │\n",
       "│ Pink Fruit Salad                       │ Combine all ingredients and chill.                                                                                                                                                                                                                                                                                                                                                                                                                                                                                                                                                                                                                                                                                                                                                                                                                                                                     │\n",
       "│ Peppered Steak                         │ Cut steaks into strips; brown in cooking oil.\\nAdd onion and pepper, chopped in strips.\\nCover for 5 minutes.\\nAdd tomatoes and soy sauce, cook until thickened.\\nServe over rice.                                                                                                                                                                                                                                                                                                                                                                                                                                                                                                                                                                                                                                                                                                                     │\n",
       "│ Chicken Casserole                      │ Stew and bone fryer.\\nSaute in small amount margarine the onion, green pepper and celery.\\nCook spaghetti and drain.\\nMix chicken, vegetables and spaghetti together and add remaining ingredients.\\nBake at 425u00b0 for 25 to 40 minutes in a greased 9 x 13-inch pan.\\nIngredients may be increased to make this a casserole for a crowd.                                                                                                                                                                                                                                                                                                                                                                                                                                                                                                                                                           │\n",
       "│ Sweet Potatoes Casserole               │ Mix together for 2 or 3 minutes. Put into greased casserole pan.                                                                                                                                                                                                                                                                                                                                                                                                                                                                                                                                                                                                                                                                                                                                                                                                                                       │\n",
       "│ 7 Layer Salad                          │ Layer each ingredients, prepared according to directions, in a clear, glass bowl.\\nPour Ranch dressing over top to drizzle down over vegetables.\\nPretty to look at and good to eat.                                                                                                                                                                                                                                                                                                                                                                                                                                                                                                                                                                                                                                                                                                                   │\n",
       "├────────────────────────────────────────┴────────────────────────────────────────────────────────────────────────────────────────────────────────────────────────────────────────────────────────────────────────────────────────────────────────────────────────────────────────────────────────────────────────────────────────────────────────────────────────────────────────────────────────────────────────────────────────────────────────────────────────────────────────────────────────────────────────────────────────────────────────────────────────────────────────────────────────────────────────────────────────────────────────────────────────────────────────────────────────────────────────────────────────────────────────────────────────────────────────────────────────────────────────────────────────────────────────────────────────────────────────────────────────────────────────────────────────────────────────┤\n",
       "│ ? rows (>9999 rows, 20 shown)                                                                                                                                                                                                                                                                                                                                                                                                                                                                                                                                                                                                                                                                                                                                                                                                                                                                                                         2 columns │\n",
       "└─────────────────────────────────────────────────────────────────────────────────────────────────────────────────────────────────────────────────────────────────────────────────────────────────────────────────────────────────────────────────────────────────────────────────────────────────────────────────────────────────────────────────────────────────────────────────────────────────────────────────────────────────────────────────────────────────────────────────────────────────────────────────────────────────────────────────────────────────────────────────────────────────────────────────────────────────────────────────────────────────────────────────────────────────────────────────────────────────────────────────────────────────────────────────────────────────────────────────────────────────────────────────────────────────────────────────────────────────────────────────────────────────────────────────┘"
      ]
     },
     "execution_count": 4,
     "metadata": {},
     "output_type": "execute_result"
    }
   ],
   "source": [
    "# transform directions list to string using sql\n",
    "datad = sql.query(f\"\"\"\n",
    "  select title, array_to_string(directions, '\\\\n') as directions\n",
    "  from data\n",
    "\"\"\")\n",
    "datad"
   ]
  },
  {
   "cell_type": "code",
   "execution_count": 5,
   "id": "afe7f476",
   "metadata": {},
   "outputs": [
    {
     "name": "stderr",
     "output_type": "stream",
     "text": [
      "Formatting recipes: 100%|██████████| 2231142/2231142 [01:12<00:00, 30913.30it/s]"
     ]
    },
    {
     "name": "stdout",
     "output_type": "stream",
     "text": [
      "Prepared 2231142 recipes for training\n",
      "\n",
      "Example formatted recipe:\n",
      "Recipe: No-Bake Nut Cookies\n",
      "\n",
      "Instructions:\n",
      "In a heavy 2-quart saucepan, mix brown sugar, nuts, evaporated milk and butter or margarine.\\nStir over medium heat until mixture bubbles all over top.\\nBoil and stir 5 minutes more. Take off heat.\\nStir in vanilla and cereal; mix well.\\nUsing 2 teaspoons, ...\n"
     ]
    },
    {
     "name": "stderr",
     "output_type": "stream",
     "text": [
      "\n"
     ]
    }
   ],
   "source": [
    "# Prepare the dataset for fine-tuning\n",
    "from torch.utils.data import Dataset\n",
    "from transformers import TrainingArguments, Trainer, DataCollatorForLanguageModeling\n",
    "import torch\n",
    "from tqdm import tqdm\n",
    "\n",
    "# Convert data to pandas for easier manipulation\n",
    "df = datad.df()\n",
    "\n",
    "# Create formatted training text\n",
    "def format_recipe(title, directions):\n",
    "    return f\"Recipe: {title}\\n\\nInstructions:\\n{directions}\\n<|endoftext|>\"\n",
    "\n",
    "# Format the data\n",
    "formatted_texts = []\n",
    "for _, row in tqdm(df.iterrows(), total=len(df), desc=\"Formatting recipes\"):\n",
    "    formatted_text = format_recipe(row['title'], row['directions'])\n",
    "    formatted_texts.append(formatted_text)\n",
    "\n",
    "print(f\"Prepared {len(formatted_texts)} recipes for training\")\n",
    "print(\"\\nExample formatted recipe:\")\n",
    "print(formatted_texts[0][:300] + \"...\")"
   ]
  },
  {
   "cell_type": "code",
   "execution_count": 6,
   "id": "fd0478a4",
   "metadata": {},
   "outputs": [
    {
     "name": "stdout",
     "output_type": "stream",
     "text": [
      "Created dataset with 1000 samples\n"
     ]
    }
   ],
   "source": [
    "# Custom Dataset class\n",
    "class RecipeDataset(Dataset):\n",
    "    def __init__(self, texts, tokenizer, max_length=512):\n",
    "        self.texts = texts\n",
    "        self.tokenizer = tokenizer\n",
    "        self.max_length = max_length\n",
    "        \n",
    "    def __len__(self):\n",
    "        return len(self.texts)\n",
    "    \n",
    "    def __getitem__(self, idx):\n",
    "        text = self.texts[idx]\n",
    "        encoding = self.tokenizer(\n",
    "            text,\n",
    "            truncation=True,\n",
    "            padding='max_length',\n",
    "            max_length=self.max_length,\n",
    "            return_tensors='pt'\n",
    "        )\n",
    "        \n",
    "        return {\n",
    "            'input_ids': encoding['input_ids'].flatten(),\n",
    "            'attention_mask': encoding['attention_mask'].flatten()\n",
    "        }\n",
    "\n",
    "# Create dataset (using a subset for faster training)\n",
    "subset_size = min(1000, len(formatted_texts))  # Use first 1000 recipes or all if less\n",
    "train_texts = formatted_texts[:subset_size]\n",
    "\n",
    "train_dataset = RecipeDataset(train_texts, tokenizer, max_length=256)\n",
    "print(f\"Created dataset with {len(train_dataset)} samples\")"
   ]
  },
  {
   "cell_type": "code",
   "execution_count": 7,
   "id": "92505d8b",
   "metadata": {},
   "outputs": [
    {
     "name": "stdout",
     "output_type": "stream",
     "text": [
      "Training arguments configured\n"
     ]
    }
   ],
   "source": [
    "# Set up training arguments\n",
    "training_args = TrainingArguments(\n",
    "    output_dir=str(here('models/gpt2-recipe-finetuned')),\n",
    "    overwrite_output_dir=True,\n",
    "    num_train_epochs=3,\n",
    "    per_device_train_batch_size=4,\n",
    "    gradient_accumulation_steps=2,\n",
    "    warmup_steps=100,\n",
    "    logging_steps=50,\n",
    "    save_steps=500,\n",
    "    eval_strategy=\"no\",  # No validation set for simplicity\n",
    "    save_total_limit=2,\n",
    "    prediction_loss_only=True,\n",
    "    remove_unused_columns=False,\n",
    "    dataloader_pin_memory=False,\n",
    "    learning_rate=5e-5,\n",
    "    weight_decay=0.01,\n",
    "    logging_dir=str(here('logs')),\n",
    "    report_to=None,  # Disable wandb logging\n",
    ")\n",
    "\n",
    "# Data collator for language modeling\n",
    "data_collator = DataCollatorForLanguageModeling(\n",
    "    tokenizer=tokenizer,\n",
    "    mlm=False,  # GPT-2 is not a masked language model\n",
    ")\n",
    "\n",
    "print(\"Training arguments configured\")"
   ]
  },
  {
   "cell_type": "code",
   "execution_count": 8,
   "id": "5f6d86d9",
   "metadata": {},
   "outputs": [
    {
     "name": "stderr",
     "output_type": "stream",
     "text": [
      "C:\\Users\\Plancha\\AppData\\Local\\Temp\\ipykernel_29320\\2898995490.py:2: FutureWarning: `tokenizer` is deprecated and will be removed in version 5.0.0 for `Trainer.__init__`. Use `processing_class` instead.\n",
      "  trainer = Trainer(\n"
     ]
    },
    {
     "name": "stdout",
     "output_type": "stream",
     "text": [
      "Trainer initialized\n",
      "Number of trainable parameters: 124,440,576\n"
     ]
    }
   ],
   "source": [
    "# Initialize trainer\n",
    "trainer = Trainer(\n",
    "    model=model,\n",
    "    args=training_args,\n",
    "    train_dataset=train_dataset,\n",
    "    data_collator=data_collator,\n",
    "    tokenizer=tokenizer,\n",
    ")\n",
    "\n",
    "print(\"Trainer initialized\")\n",
    "print(f\"Number of trainable parameters: {sum(p.numel() for p in model.parameters() if p.requires_grad):,}\")"
   ]
  },
  {
   "cell_type": "code",
   "execution_count": 9,
   "id": "d7cabda4",
   "metadata": {},
   "outputs": [
    {
     "name": "stdout",
     "output_type": "stream",
     "text": [
      "Starting fine-tuning...\n"
     ]
    },
    {
     "name": "stderr",
     "output_type": "stream",
     "text": [
      "`loss_type=None` was set in the config but it is unrecognised.Using the default loss: `ForCausalLMLoss`.\n"
     ]
    },
    {
     "data": {
      "text/html": [
       "\n",
       "    <div>\n",
       "      \n",
       "      <progress value='375' max='375' style='width:300px; height:20px; vertical-align: middle;'></progress>\n",
       "      [375/375 04:50, Epoch 3/3]\n",
       "    </div>\n",
       "    <table border=\"1\" class=\"dataframe\">\n",
       "  <thead>\n",
       " <tr style=\"text-align: left;\">\n",
       "      <th>Step</th>\n",
       "      <th>Training Loss</th>\n",
       "    </tr>\n",
       "  </thead>\n",
       "  <tbody>\n",
       "    <tr>\n",
       "      <td>50</td>\n",
       "      <td>3.102200</td>\n",
       "    </tr>\n",
       "    <tr>\n",
       "      <td>100</td>\n",
       "      <td>2.354600</td>\n",
       "    </tr>\n",
       "    <tr>\n",
       "      <td>150</td>\n",
       "      <td>2.182200</td>\n",
       "    </tr>\n",
       "    <tr>\n",
       "      <td>200</td>\n",
       "      <td>2.065400</td>\n",
       "    </tr>\n",
       "    <tr>\n",
       "      <td>250</td>\n",
       "      <td>2.107200</td>\n",
       "    </tr>\n",
       "    <tr>\n",
       "      <td>300</td>\n",
       "      <td>1.997200</td>\n",
       "    </tr>\n",
       "    <tr>\n",
       "      <td>350</td>\n",
       "      <td>1.993500</td>\n",
       "    </tr>\n",
       "  </tbody>\n",
       "</table><p>"
      ],
      "text/plain": [
       "<IPython.core.display.HTML object>"
      ]
     },
     "metadata": {},
     "output_type": "display_data"
    },
    {
     "name": "stdout",
     "output_type": "stream",
     "text": [
      "Fine-tuned model saved to: c:\\Users\\Plancha\\Desktop\\AML-homework\\models\\gpt2-recipe-finetuned\n"
     ]
    }
   ],
   "source": [
    "# Start fine-tuning\n",
    "print(\"Starting fine-tuning...\")\n",
    "trainer.train()\n",
    "\n",
    "# Save the fine-tuned model\n",
    "model_save_path = here('models/gpt2-recipe-finetuned')\n",
    "trainer.save_model(model_save_path)\n",
    "tokenizer.save_pretrained(model_save_path)\n",
    "\n",
    "print(f\"Fine-tuned model saved to: {model_save_path}\")"
   ]
  },
  {
   "cell_type": "code",
   "execution_count": 12,
   "id": "58a73559",
   "metadata": {},
   "outputs": [
    {
     "name": "stdout",
     "output_type": "stream",
     "text": [
      "Testing fine-tuned model:\n",
      "==================================================\n",
      "\n",
      "Recipe: Chocolate Chip Cookies\n",
      "------------------------------\n",
      "Recipe: Chocolate Chip Cookies\n",
      "\n",
      "Instructions:\n",
      "Spread peanut butter in a greased cookie sheet.\\nChill until set, about 5 minutes.\\nStir in sugar; beat 2 minutes.\\nPour chocolate chips on top.\\nMix remaining ingredients into a greased 9 x 13-inch loaf pan.\\nPour into greased 9 x 13-inch pan. Bake in 350u00b0 oven for 45 minutes.\n",
      "\n",
      "==================================================\n",
      "\n",
      "Recipe: Beef Stew\n",
      "------------------------------\n",
      "Recipe: Chocolate Chip Cookies\n",
      "\n",
      "Instructions:\n",
      "Spread peanut butter in a greased cookie sheet.\\nChill until set, about 5 minutes.\\nStir in sugar; beat 2 minutes.\\nPour chocolate chips on top.\\nMix remaining ingredients into a greased 9 x 13-inch loaf pan.\\nPour into greased 9 x 13-inch pan. Bake in 350u00b0 oven for 45 minutes.\n",
      "\n",
      "==================================================\n",
      "\n",
      "Recipe: Beef Stew\n",
      "------------------------------\n",
      "Recipe: Beef Stew\n",
      "\n",
      "Instructions:\n",
      "Combine all ingredients before making stew.\\nMix well.\\nAdd chicken in broth.\\nAdd onion and carrots; stir well.\\nAdd beef, rice, beans and stew mixture.\\nServes 7.\n",
      "\n",
      "==================================================\n",
      "\n",
      "Recipe: Vegetable Soup\n",
      "------------------------------\n",
      "Recipe: Beef Stew\n",
      "\n",
      "Instructions:\n",
      "Combine all ingredients before making stew.\\nMix well.\\nAdd chicken in broth.\\nAdd onion and carrots; stir well.\\nAdd beef, rice, beans and stew mixture.\\nServes 7.\n",
      "\n",
      "==================================================\n",
      "\n",
      "Recipe: Vegetable Soup\n",
      "------------------------------\n",
      "Recipe: Vegetable Soup\n",
      "\n",
      "Instructions:\n",
      "Mix well.\\nPreheat oven to 425u00b0.\\nIn large mixing bowl, combine the vegetable stock, onion and garlic.\\nMix well.\\nFold in the green chillies.\\nLet stand in the refrigerator overnight.\\nLet cool.\\nRefrigerate on countertop in refrigerator.\\nStore in an airtight container in a cool place.\\nBake in an 8-inch layer of grated paraffin.\\nInvert on broiler to brown.\\nBake for 1 hour at 425u00b0.\\nLet cool.\\nServes 8.\n",
      "\n",
      "==================================================\n",
      "Recipe: Vegetable Soup\n",
      "\n",
      "Instructions:\n",
      "Mix well.\\nPreheat oven to 425u00b0.\\nIn large mixing bowl, combine the vegetable stock, onion and garlic.\\nMix well.\\nFold in the green chillies.\\nLet stand in the refrigerator overnight.\\nLet cool.\\nRefrigerate on countertop in refrigerator.\\nStore in an airtight container in a cool place.\\nBake in an 8-inch layer of grated paraffin.\\nInvert on broiler to brown.\\nBake for 1 hour at 425u00b0.\\nLet cool.\\nServes 8.\n",
      "\n",
      "==================================================\n"
     ]
    }
   ],
   "source": [
    "# Test the fine-tuned model\n",
    "def generate_recipe(prompt, max_length=200, temperature=0.8, do_sample=True):\n",
    "    model.eval()\n",
    "    device = next(model.parameters()).device\n",
    "    inputs = tokenizer(prompt, return_tensors=\"pt\")\n",
    "    inputs = {k: v.to(device) for k, v in inputs.items()}\n",
    "    \n",
    "    with torch.no_grad():\n",
    "        outputs = model.generate(\n",
    "            inputs[\"input_ids\"],\n",
    "            max_length=max_length,\n",
    "            temperature=temperature,\n",
    "            do_sample=do_sample,\n",
    "            pad_token_id=tokenizer.pad_token_id,\n",
    "            eos_token_id=tokenizer.eos_token_id,\n",
    "            num_return_sequences=1\n",
    "        )\n",
    "    \n",
    "    generated_text = tokenizer.decode(outputs[0], skip_special_tokens=True)\n",
    "    return generated_text\n",
    "\n",
    "# Test with different prompts\n",
    "test_prompts = [\n",
    "    \"Recipe: Chocolate Chip Cookies\",\n",
    "    \"Recipe: Beef Stew\",\n",
    "    \"Recipe: Vegetable Soup\"\n",
    "]\n",
    "\n",
    "print(\"Testing fine-tuned model:\")\n",
    "print(\"=\" * 50)\n",
    "\n",
    "for prompt in test_prompts:\n",
    "    print(f\"\\n{prompt}\")\n",
    "    print(\"-\" * 30)\n",
    "    generated = generate_recipe(prompt)\n",
    "    print(generated)\n",
    "    print(\"=\" * 50)"
   ]
  },
  {
   "cell_type": "code",
   "execution_count": 13,
   "id": "2e8d239c",
   "metadata": {},
   "outputs": [
    {
     "name": "stdout",
     "output_type": "stream",
     "text": [
      "Comparison with original model:\n",
      "==================================================\n",
      "Prompt: Recipe: Chocolate Chip Cookies\n",
      "\n",
      "FINE-TUNED MODEL:\n",
      "Prompt: Recipe: Chocolate Chip Cookies\n",
      "\n",
      "FINE-TUNED MODEL:\n",
      "Recipe: Chocolate Chip Cookies\n",
      "\n",
      "Instructions:\n",
      "Cut the butter in half.\\nMix the chocolate chips and graham crackers together.\\nAdd the soda, water, syrup and flour.\\nMix well.\\nAdd the chopped marshmallows.\n",
      "\n",
      "\n",
      "ORIGINAL MODEL:\n",
      "Recipe: Chocolate Chip Cookies\n",
      "\n",
      "Instructions:\n",
      "Cut the butter in half.\\nMix the chocolate chips and graham crackers together.\\nAdd the soda, water, syrup and flour.\\nMix well.\\nAdd the chopped marshmallows.\n",
      "\n",
      "\n",
      "ORIGINAL MODEL:\n",
      "Recipe: Chocolate Chip Cookies Recipe Print Ingredients 2 1/2 cups flour\n",
      "\n",
      "2 cups sugar\n",
      "\n",
      "1/2 cup granulated sugar\n",
      "\n",
      "1/4 teaspoon baking powder\n",
      "\n",
      "1/2 tsp baking soda Instructions Preheat the oven to 325 degrees. (I used a 350 degree oven) In a large mixing bowl, blend the flour, sugar, sugar, baking powder and baking soda until crumbly. Add the flour mixture to the bowl and mix with a spoon until smooth. Pour the batter into a 9-inch square baking dish. Bake for 8-10 minutes, or until a toothpick inserted comes out clean. Remove from the oven and allow the cakes to cool completely, about 8 minutes at room temperature, and then cool completely. Place the frosting on the parchment paper or foil, and press firmly with a wooden spoon. Bake for 20-25 minutes in the baking dish, or until a toothpick inserted comes out clean. Remove from the oven and allow to\n",
      "Recipe: Chocolate Chip Cookies Recipe Print Ingredients 2 1/2 cups flour\n",
      "\n",
      "2 cups sugar\n",
      "\n",
      "1/2 cup granulated sugar\n",
      "\n",
      "1/4 teaspoon baking powder\n",
      "\n",
      "1/2 tsp baking soda Instructions Preheat the oven to 325 degrees. (I used a 350 degree oven) In a large mixing bowl, blend the flour, sugar, sugar, baking powder and baking soda until crumbly. Add the flour mixture to the bowl and mix with a spoon until smooth. Pour the batter into a 9-inch square baking dish. Bake for 8-10 minutes, or until a toothpick inserted comes out clean. Remove from the oven and allow the cakes to cool completely, about 8 minutes at room temperature, and then cool completely. Place the frosting on the parchment paper or foil, and press firmly with a wooden spoon. Bake for 20-25 minutes in the baking dish, or until a toothpick inserted comes out clean. Remove from the oven and allow to\n"
     ]
    }
   ],
   "source": [
    "# Compare with original model (optional)\n",
    "print(\"Comparison with original model:\")\n",
    "print(\"=\" * 50)\n",
    "\n",
    "# Load original model for comparison\n",
    "original_model = AutoModelForCausalLM.from_pretrained(model_name)\n",
    "original_model.resize_token_embeddings(len(tokenizer))\n",
    "\n",
    "def generate_with_original(prompt, max_length=200, temperature=0.8):\n",
    "    original_model.eval()\n",
    "    inputs = tokenizer(prompt, return_tensors=\"pt\")\n",
    "    \n",
    "    with torch.no_grad():\n",
    "        outputs = original_model.generate(\n",
    "            inputs.input_ids,\n",
    "            max_length=max_length,\n",
    "            temperature=temperature,\n",
    "            do_sample=True,\n",
    "            pad_token_id=tokenizer.pad_token_id,\n",
    "            eos_token_id=tokenizer.eos_token_id,\n",
    "            num_return_sequences=1\n",
    "        )\n",
    "    \n",
    "    generated_text = tokenizer.decode(outputs[0], skip_special_tokens=True)\n",
    "    return generated_text\n",
    "\n",
    "# Compare on one example\n",
    "test_prompt = \"Recipe: Chocolate Chip Cookies\"\n",
    "print(f\"Prompt: {test_prompt}\\n\")\n",
    "\n",
    "print(\"FINE-TUNED MODEL:\")\n",
    "print(generate_recipe(test_prompt))\n",
    "print(\"\\nORIGINAL MODEL:\")\n",
    "print(generate_with_original(test_prompt))"
   ]
  }
 ],
 "metadata": {
  "kernelspec": {
   "display_name": "gpu",
   "language": "python",
   "name": "python3"
  },
  "language_info": {
   "codemirror_mode": {
    "name": "ipython",
    "version": 3
   },
   "file_extension": ".py",
   "mimetype": "text/x-python",
   "name": "python",
   "nbconvert_exporter": "python",
   "pygments_lexer": "ipython3",
   "version": "3.12.10"
  }
 },
 "nbformat": 4,
 "nbformat_minor": 5
}
