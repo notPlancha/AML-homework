{
 "cells": [
  {
   "cell_type": "markdown",
   "id": "a0ab950c",
   "metadata": {
    "colab_type": "text",
    "id": "view-in-github"
   },
   "source": [
    "<a href=\"https://colab.research.google.com/github/aeau/MAU-AML-labs/blob/develop/2-language-models-lab/2-text-classifier-colab.ipynb\" target=\"_parent\"><img src=\"https://colab.research.google.com/assets/colab-badge.svg\" alt=\"Open In Colab\"/></a>"
   ]
  },
  {
   "cell_type": "markdown",
   "id": "e4ea8808",
   "metadata": {
    "id": "L8LQKGuJuUF7"
   },
   "source": [
    "## Text Classification ##\n",
    "\n",
    "This notebook is based on this Pytorch tutorial: https://pytorch.org/tutorials/intermediate/char_rnn_classification_tutorial\n",
    "        \n",
    "In this notebook, we will train a network to learn how to classify news articles by category. We will tokenize per character rather than per word"
   ]
  },
  {
   "cell_type": "code",
   "execution_count": null,
   "id": "ec76a3b8",
   "metadata": {
    "id": "ZvHJ9C9YuUF9"
   },
   "outputs": [
    {
     "name": "stdout",
     "output_type": "stream",
     "text": [
      "Number of categories: 4\n",
      "Categories: ['World', 'Sports', 'Business', 'Technology']\n"
     ]
    }
   ],
   "source": [
    "from __future__ import unicode_literals, print_function, division\n",
    "from io import open\n",
    "import glob\n",
    "import os\n",
    "import unicodedata\n",
    "import string\n",
    "import random\n",
    "import time\n",
    "import math\n",
    "\n",
    "import torch\n",
    "import torch.nn as nn\n",
    "import torch.optim as optim\n",
    "from torch.optim import lr_scheduler\n",
    "\n",
    "import matplotlib.pyplot as plt\n",
    "import matplotlib.ticker as ticker\n",
    "\n",
    "from datasets import load_dataset\n",
    "from pyprojroot import here\n",
    "\n",
    "# Load AG News dataset\n",
    "dataset = load_dataset(\"ag_news\", cache_dir=here(\"data\", \"datasets_cache\"))\n",
    "\n",
    "# Access the data\n",
    "train_data = dataset['train']\n",
    "test_data = dataset['test']\n",
    "\n",
    "category_lines = {}\n",
    "all_categories = ['World', 'Sports', 'Business', 'Technology']\n",
    "\n",
    "# Process training data\n",
    "for item in train_data:\n",
    "    category = all_categories[item['label']]\n",
    "    text = item['text']\n",
    "    \n",
    "    if category not in category_lines:\n",
    "        category_lines[category] = []\n",
    "    category_lines[category].append(text)\n",
    "\n",
    "n_categories = len(all_categories)\n",
    "print(f\"Number of categories: {n_categories}\")\n",
    "print(f\"Categories: {all_categories}\")"
   ]
  },
  {
   "cell_type": "code",
   "execution_count": null,
   "id": "21728adb",
   "metadata": {
    "id": "P0W-mTB_uUF9"
   },
   "outputs": [
    {
     "name": "stdout",
     "output_type": "stream",
     "text": [
      "Using device: cuda\n"
     ]
    }
   ],
   "source": [
    "device = torch.device(\"cuda\" if torch.cuda.is_available() else \"cpu\")\n",
    "print(f\"Using device: {device}\")"
   ]
  },
  {
   "cell_type": "code",
   "execution_count": null,
   "id": "6eb1e411",
   "metadata": {
    "colab": {
     "base_uri": "https://localhost:8080/"
    },
    "id": "Bgf97XnluUF-",
    "lines_to_next_cell": 2,
    "outputId": "58d0bd4f-1fee-4d1c-94d1-a722572a76c2"
   },
   "outputs": [
    {
     "name": "stdout",
     "output_type": "stream",
     "text": [
      "Vocabulary size: 69\n",
      "Slusarski\n"
     ]
    }
   ],
   "source": [
    "# Vocabulary - expanded for news text\n",
    "all_letters = string.ascii_letters + \" .,;'!?0123456789\"\n",
    "n_letters = len(all_letters)\n",
    "\n",
    "print(f\"Vocabulary size: {n_letters}\")\n",
    "\n",
    "# Turn a Unicode string to plain ASCII, thanks to https://stackoverflow.com/a/518232/2809427\n",
    "def unicodeToAscii(s):\n",
    "    return ''.join(\n",
    "        c for c in unicodedata.normalize('NFD', s)\n",
    "        if unicodedata.category(c) != 'Mn'\n",
    "        and c in all_letters\n",
    "    )\n",
    "\n",
    "print(unicodeToAscii('Ślusàrski'))"
   ]
  },
  {
   "cell_type": "code",
   "execution_count": null,
   "id": "c9efea4e",
   "metadata": {
    "colab": {
     "base_uri": "https://localhost:8080/"
    },
    "id": "92gHaPfOuUF_",
    "lines_to_next_cell": 2,
    "outputId": "fabce61f-de96-4e66-d1fc-466dc2abe9db"
   },
   "outputs": [
    {
     "name": "stdout",
     "output_type": "stream",
     "text": [
      "Sample data from each category:\n",
      "\n",
      "World (30000 samples):\n",
      "  Venezuelans Vote Early in Referendum on Chavez Rule (Reuters) Reuters - Venezuelans turned out early...\n",
      "\n",
      "Sports (30000 samples):\n",
      "  Phelps, Thorpe Advance in 200 Freestyle (AP) AP - Michael Phelps took care of qualifying for the Oly...\n",
      "\n",
      "Business (30000 samples):\n",
      "  Wall St. Bears Claw Back Into the Black (Reuters) Reuters - Short-sellers, Wall Street's dwindling\\b...\n",
      "\n",
      "Technology (30000 samples):\n",
      "  'Madden,' 'ESPN' Football Score in Different Ways (Reuters) Reuters - Was absenteeism a little high\\...\n"
     ]
    }
   ],
   "source": [
    "# Show sample data from each category\n",
    "print(\"Sample data from each category:\")\n",
    "for category in all_categories:\n",
    "    print(f\"\\n{category} ({len(category_lines[category])} samples):\")\n",
    "    print(f\"  {category_lines[category][0][:100]}...\")"
   ]
  },
  {
   "cell_type": "code",
   "execution_count": null,
   "id": "324857a7",
   "metadata": {
    "colab": {
     "base_uri": "https://localhost:8080/"
    },
    "id": "ow4ebeBSuUF_",
    "outputId": "45ba9551-69b2-49e2-f73d-67a1bc53b818"
   },
   "outputs": [
    {
     "name": "stdout",
     "output_type": "stream",
     "text": [
      "Sample World news:\n",
      "1: Venezuelans Vote Early in Referendum on Chavez Rule (Reuters) Reuters - Venezuel...\n",
      "2: S.Koreans Clash with Police on Iraq Troop Dispatch (Reuters) Reuters - South Kor...\n",
      "3: Palestinians in Israeli Jails Start Hunger Strike (Reuters) Reuters - Thousands ...\n",
      "\n",
      "Sample Sports news:\n",
      "1: Phelps, Thorpe Advance in 200 Freestyle (AP) AP - Michael Phelps took care of qu...\n",
      "2: Reds Knock Padres Out of Wild-Card Lead (AP) AP - Wily Mo Pena homered twice and...\n",
      "3: Dreaming done, NBA stars awaken to harsh Olympic reality (AFP) AFP - National Ba...\n"
     ]
    }
   ],
   "source": [
    "# Show some examples from different categories\n",
    "print(\"Sample World news:\")\n",
    "for i, text in enumerate(category_lines['World'][:3]):\n",
    "    print(f\"{i+1}: {text[:80]}...\")\n",
    "\n",
    "print(\"\\nSample Sports news:\")\n",
    "for i, text in enumerate(category_lines['Sports'][:3]):\n",
    "    print(f\"{i+1}: {text[:80]}...\")"
   ]
  },
  {
   "cell_type": "markdown",
   "id": "ef1dfca1",
   "metadata": {
    "id": "DsC2K5HNuUF_"
   },
   "source": [
    "### Make everything into one-hot vector ###\n",
    "\n",
    "For it to be used (transform into a tensor). Here we are doing a character-based one-hot vector"
   ]
  },
  {
   "cell_type": "code",
   "execution_count": null,
   "id": "88108c8e",
   "metadata": {
    "colab": {
     "base_uri": "https://localhost:8080/"
    },
    "id": "DxTCIJJ_uUGA",
    "outputId": "e91245b4-60e8-4226-d455-f7c512c597c4"
   },
   "outputs": [
    {
     "name": "stdout",
     "output_type": "stream",
     "text": [
      "tensor([[0., 0., 0., 0., 0., 0., 0., 0., 0., 0., 0., 0., 0., 0., 0., 0., 0., 0.,\n",
      "         0., 0., 0., 0., 0., 0., 0., 0., 0., 0., 0., 0., 0., 0., 0., 0., 0., 1.,\n",
      "         0., 0., 0., 0., 0., 0., 0., 0., 0., 0., 0., 0., 0., 0., 0., 0., 0., 0.,\n",
      "         0., 0., 0., 0., 0., 0., 0., 0., 0., 0., 0., 0., 0., 0., 0.]])\n",
      "tensor([[0., 0., 0., 0., 0., 0., 0., 0., 0., 0., 0., 0., 0., 0., 1., 0., 0., 0.,\n",
      "         0., 0., 0., 0., 0., 0., 0., 0., 0., 0., 0., 0., 0., 0., 0., 0., 0., 0.,\n",
      "         0., 0., 0., 0., 0., 0., 0., 0., 0., 0., 0., 0., 0., 0., 0., 0., 0., 0.,\n",
      "         0., 0., 0., 0., 0., 0., 0., 0., 0., 0., 0., 0., 0., 0., 0.]])\n",
      "torch.Size([5, 1, 69])\n"
     ]
    }
   ],
   "source": [
    "# Find letter index from all_letters, e.g. \"a\" = 0\n",
    "def letterToIndex(letter):\n",
    "    return all_letters.find(letter)\n",
    "\n",
    "# Just for demonstration, turn a letter into a <1 x n_letters> Tensor\n",
    "def letterToTensor(letter):\n",
    "    tensor = torch.zeros(1, n_letters)\n",
    "    tensor[0][letterToIndex(letter)] = 1\n",
    "    return tensor\n",
    "\n",
    "# Turn a line into a <line_length x 1 x n_letters>,\n",
    "# or an array of one-hot letter vectors\n",
    "def lineToTensor(line):\n",
    "    # Clean the line first and truncate if too long\n",
    "    line = unicodeToAscii(line)\n",
    "    if len(line) > 200:  # Limit length to avoid memory issues\n",
    "        line = line[:200]\n",
    "    tensor = torch.zeros(len(line), 1, n_letters)\n",
    "    for li, letter in enumerate(line):\n",
    "        if letterToIndex(letter) >= 0:  # Only process valid letters\n",
    "            tensor[li][0][letterToIndex(letter)] = 1\n",
    "    return tensor\n",
    "\n",
    "print(letterToTensor('J'))\n",
    "print(letterToTensor('o'))\n",
    "print(lineToTensor('Jones').size())"
   ]
  },
  {
   "cell_type": "code",
   "execution_count": null,
   "id": "59359dac",
   "metadata": {
    "id": "DVFbr4OhuUGA"
   },
   "outputs": [],
   "source": [
    "class RNN(nn.Module):\n",
    "    def __init__(self, input_size, hidden_size, output_size):\n",
    "        super(RNN, self).__init__()\n",
    "\n",
    "        self.hidden_size = hidden_size\n",
    "\n",
    "        self.hidden_comp = nn.Linear(input_size + hidden_size, hidden_size)\n",
    "        self.output_comp = nn.Linear(input_size + hidden_size, hidden_size)\n",
    "        self.output2output = nn.Linear(hidden_size, output_size)\n",
    "        self.tanh_act = nn.Tanh()\n",
    "        self.lsoftmax = nn.LogSoftmax(dim=1)\n",
    "\n",
    "    def forward(self, x, hidden):\n",
    "#         print(x.shape)\n",
    "        \n",
    "        combined = torch.cat((x, hidden), 1)\n",
    "        hidden = self.hidden_comp(combined)\n",
    "        hidden = self.tanh_act(hidden)\n",
    "#         print(hidden.shape)\n",
    "        \n",
    "        output = self.output_comp(combined)\n",
    "        output = self.tanh_act(output)\n",
    "#         print(output.shape)\n",
    "        output = self.output2output(output)\n",
    "        output = self.lsoftmax(output)\n",
    "#         print(output.shape)\n",
    "        \n",
    "        return output, hidden\n",
    "\n",
    "    def initHidden(self):\n",
    "        return torch.zeros(1, self.hidden_size)\n",
    "\n",
    "n_hidden = 128\n",
    "rnn = RNN(n_letters, n_hidden, n_categories)"
   ]
  },
  {
   "cell_type": "markdown",
   "id": "64337ab6",
   "metadata": {
    "id": "RYv3BheauUGB"
   },
   "source": [
    "To run a step of this network we need to pass an input (in our case, the Tensor for the current letter) and a previous hidden state (which we initialize as zeros at first). We'll get back the output (probability of each language) and a next hidden state (which we keep for the next step)."
   ]
  },
  {
   "cell_type": "code",
   "execution_count": null,
   "id": "afacbb8e",
   "metadata": {
    "colab": {
     "base_uri": "https://localhost:8080/"
    },
    "id": "EMZ2mbjuuUGB",
    "outputId": "701b13e6-b3da-4f07-bfe5-787df171b31c"
   },
   "outputs": [
    {
     "name": "stdout",
     "output_type": "stream",
     "text": [
      "torch.Size([1, 69])\n",
      "torch.Size([1, 128])\n",
      "tensor([1])\n",
      "tensor([[1, 2, 3]])\n"
     ]
    }
   ],
   "source": [
    "x = letterToTensor('A')\n",
    "print(x.shape)\n",
    "hidden =torch.zeros(1, n_hidden)\n",
    "hidden = rnn.initHidden()\n",
    "print(hidden.shape)\n",
    "\n",
    "output, next_hidden = rnn(x, hidden)\n",
    "print(output.argmax(-1))\n",
    "print(output.topk(3).indices)"
   ]
  },
  {
   "cell_type": "code",
   "execution_count": null,
   "id": "f7cdb3ac",
   "metadata": {
    "colab": {
     "base_uri": "https://localhost:8080/"
    },
    "id": "Pb05odt2uUGB",
    "outputId": "350026ac-e6bd-4fa1-b41c-f1bf3d85a253"
   },
   "outputs": [
    {
     "name": "stdout",
     "output_type": "stream",
     "text": [
      "tensor([1])\n"
     ]
    }
   ],
   "source": [
    "x = lineToTensor('Alberto')\n",
    "hidden = torch.zeros(1, n_hidden)\n",
    "\n",
    "output, next_hidden = rnn(x[0], hidden)\n",
    "output, next_hidden = rnn(x[1], next_hidden)\n",
    "output, next_hidden = rnn(x[2], next_hidden)\n",
    "output, next_hidden = rnn(x[3], next_hidden)\n",
    "output, next_hidden = rnn(x[4], next_hidden)\n",
    "output, next_hidden = rnn(x[5], next_hidden)\n",
    "output, next_hidden = rnn(x[6], next_hidden)\n",
    "print(output.argmax(-1))"
   ]
  },
  {
   "cell_type": "markdown",
   "id": "a7bcc6f2",
   "metadata": {
    "id": "7ZH4fIXmuUGC"
   },
   "source": [
    "## Preparing for training! ##"
   ]
  },
  {
   "cell_type": "code",
   "execution_count": null,
   "id": "985cb200",
   "metadata": {
    "colab": {
     "base_uri": "https://localhost:8080/"
    },
    "id": "aHhkw2PfuUGC",
    "outputId": "d3f86a06-a01e-4e09-aa27-464b0286313b"
   },
   "outputs": [
    {
     "name": "stdout",
     "output_type": "stream",
     "text": [
      "('Sports', 1)\n"
     ]
    }
   ],
   "source": [
    "# Helper function to get the actual category from the best\n",
    "\n",
    "def categoryFromOutput(output):\n",
    "    top_n, top_i = output.topk(1)\n",
    "    category_i = top_i[0].item()\n",
    "    return all_categories[category_i], category_i\n",
    "\n",
    "print(categoryFromOutput(output))"
   ]
  },
  {
   "cell_type": "markdown",
   "id": "baf9f2b0",
   "metadata": {
    "id": "wcJkVs-0uUGC"
   },
   "source": [
    "### Quick way to get training example (Src = Text, Trg = Category) ###"
   ]
  },
  {
   "cell_type": "code",
   "execution_count": null,
   "id": "c39671b7",
   "metadata": {
    "colab": {
     "base_uri": "https://localhost:8080/"
    },
    "id": "2C8qeLDPuUGC",
    "outputId": "204efac2-8d20-4c1b-b187-0d86f50d7cf1"
   },
   "outputs": [
    {
     "name": "stdout",
     "output_type": "stream",
     "text": [
      "category = Sports / line = Heartbreak for Deakes Sloping off: Nathan Deakes w...\n",
      "category = Sports / line = UPDATE 1-Everton #39;s Rooney hands in transfer re...\n",
      "category = Business / line = Crane Shares Rise on Settlement News  BOSTON (Reut...\n",
      "category = Sports / line = St. Louis Cardinals News With the National League ...\n",
      "category = Sports / line = Knicks get defensive Someone asked Knicks point gu...\n"
     ]
    }
   ],
   "source": [
    "def randomChoice(l):\n",
    "    return l[random.randint(0, len(l) - 1)]\n",
    "\n",
    "def randomTrainingExample():\n",
    "    category = randomChoice(all_categories)\n",
    "    line = randomChoice(category_lines[category])\n",
    "    # Truncate very long texts to avoid memory issues\n",
    "    if len(line) > 200:\n",
    "        line = line[:200]\n",
    "    category_tensor = torch.tensor([all_categories.index(category)], dtype=torch.long)\n",
    "    line_tensor = lineToTensor(line)\n",
    "    return category, line, category_tensor, line_tensor\n",
    "\n",
    "# Test the function\n",
    "for i in range(5):\n",
    "    category, line, category_tensor, line_tensor = randomTrainingExample()\n",
    "    print('category =', category, '/ line =', line[:50] + \"...\")"
   ]
  },
  {
   "cell_type": "code",
   "execution_count": null,
   "id": "42b0b2c0",
   "metadata": {
    "id": "SNiUZiPzuUGC"
   },
   "outputs": [],
   "source": [
    "def timeSince(since):\n",
    "    now = time.time()\n",
    "    s = now - since\n",
    "    m = math.floor(s / 60)\n",
    "    s -= m * 60\n",
    "    return '%dm %ds' % (m, s)\n",
    "\n"
   ]
  },
  {
   "cell_type": "markdown",
   "id": "3f74bc95",
   "metadata": {
    "id": "u8anePKNuUGD"
   },
   "source": [
    "## Train now!!! ##"
   ]
  },
  {
   "cell_type": "code",
   "execution_count": null,
   "id": "9da95b8f",
   "metadata": {
    "id": "sn6VaoZluUGD"
   },
   "outputs": [],
   "source": [
    "def train(category_tensor, line_tensor, optim, criterion, model):\n",
    "    \n",
    "    model.train()\n",
    "    hidden = model.initHidden()\n",
    "    model.zero_grad()\n",
    "    \n",
    "    category_tensor = category_tensor.to(device)\n",
    "    line_tensor = line_tensor.to(device)\n",
    "\n",
    "    # Iterate through the whole line!\n",
    "    for i in range(line_tensor.size()[0]):\n",
    "        hidden = hidden.to(device)\n",
    "        output, hidden = model(line_tensor[i], hidden)\n",
    "\n",
    "    loss = criterion(output, category_tensor)\n",
    "    \n",
    "    # zero the parameter gradients\n",
    "    optim.zero_grad()\n",
    "    loss.backward()\n",
    "    optim.step()\n",
    "\n",
    "    return output, loss.item()"
   ]
  },
  {
   "cell_type": "markdown",
   "id": "68716cc5",
   "metadata": {
    "id": "PvFb32TruUGD"
   },
   "source": [
    "#### Train with the RNN from scratch ####"
   ]
  },
  {
   "cell_type": "code",
   "execution_count": null,
   "id": "6916e0be",
   "metadata": {
    "colab": {
     "base_uri": "https://localhost:8080/"
    },
    "id": "hJsjzrjRuUGD",
    "outputId": "a0f08b5f-a09b-4fab-9ed3-125e95f82d14"
   },
   "outputs": [
    {
     "name": "stdout",
     "output_type": "stream",
     "text": [
      "Starting training...\n",
      "2000 20% (2m 0s) 1.3839 Millar #39;s homer in 11th lif... / Technology ✗ (Sports)\n",
      "4000 40% (4m 1s) 1.3800 Decision near Jim Leyland #39;... / Business ✗ (Sports)\n",
      "6000 60% (6m 3s) 1.4001 Economic Growth Better Than Th... / World ✗ (Business)\n",
      "8000 80% (8m 3s) 1.2856 Holdsclaw Speaks Out The Mysti... / Technology ✗ (Sports)\n",
      "10000 100% (10m 3s) 1.6191 Property market faces up to 12... / Sports ✗ (Business)\n"
     ]
    }
   ],
   "source": [
    "criterion = nn.NLLLoss() # Because we are using Log_softmax\n",
    "learning_rate = 0.005 # If you set this too high, it might explode. If too low, it might not learn\n",
    "N_HIDDEN = 128\n",
    "\n",
    "model_basic = RNN(n_letters, N_HIDDEN, n_categories) #Vocab_size, hidden size, output classes\n",
    "model_basic = model_basic.to(device)\n",
    "optimizer = optim.SGD(model_basic.parameters(), lr=learning_rate)\n",
    "\n",
    "n_iters = 10000\n",
    "print_every = 2000  # More frequent updates\n",
    "plot_every = 1000\n",
    "\n",
    "# Keep track of losses for plotting\n",
    "current_loss = 0\n",
    "all_losses = []\n",
    "\n",
    "start = time.time()\n",
    "\n",
    "print(\"Starting training...\")\n",
    "for iter in range(1, n_iters + 1):\n",
    "    category, line, category_tensor, line_tensor = randomTrainingExample()\n",
    "    output, loss = train(category_tensor, line_tensor, optimizer, criterion, model_basic)\n",
    "    current_loss += loss\n",
    "\n",
    "    # Print iter number, loss, name and guess\n",
    "    if iter % print_every == 0:\n",
    "        guess, guess_i = categoryFromOutput(output)\n",
    "        correct = '✓' if guess == category else '✗ (%s)' % category\n",
    "        print('%d %d%% (%s) %.4f %s / %s %s' % (iter, iter / n_iters * 100, timeSince(start), loss, line[:30]+\"...\", guess, correct))\n",
    "\n",
    "    # Add current loss avg to list of losses\n",
    "    if iter % plot_every == 0:\n",
    "        all_losses.append(current_loss / plot_every)\n",
    "        current_loss = 0"
   ]
  },
  {
   "cell_type": "code",
   "execution_count": null,
   "id": "4b52c976",
   "metadata": {
    "colab": {
     "base_uri": "https://localhost:8080/",
     "height": 283
    },
    "id": "Cht6CoG8uUGD",
    "outputId": "bfa47d5e-5876-4d33-e6e8-484dd2288193"
   },
   "outputs": [
    {
     "data": {
      "image/png": "[encoded data removed]",
      "text/plain": [
       "<Figure size 640x480 with 1 Axes>"
      ]
     },
     "metadata": {},
     "output_type": "display_data"
    }
   ],
   "source": [
    "# PLOT THE RESULT\n",
    "plt.figure()\n",
    "plt.plot(all_losses)\n",
    "plt.title('Training Loss')\n",
    "plt.xlabel('Iterations (x1000)')\n",
    "plt.ylabel('Loss')\n",
    "plt.show()"
   ]
  },
  {
   "cell_type": "markdown",
   "id": "d14d0bf7",
   "metadata": {
    "id": "kg7esg4muUGD"
   },
   "source": [
    "## Evaluate the results with a confusion matrix! ##"
   ]
  },
  {
   "cell_type": "code",
   "execution_count": null,
   "id": "904fa074",
   "metadata": {
    "colab": {
     "base_uri": "https://localhost:8080/",
     "height": 320
    },
    "id": "uzKItQSsuUGD",
    "outputId": "d7355588-5337-4df1-cd03-8bb6ebd84f51"
   },
   "outputs": [
    {
     "name": "stdout",
     "output_type": "stream",
     "text": [
      "Evaluating model...\n",
      "Accuracy: 0.260\n"
     ]
    },
    {
     "name": "stderr",
     "output_type": "stream",
     "text": [
      "C:\\Users\\Plancha\\AppData\\Local\\Temp\\ipykernel_44960\\3988197108.py:44: UserWarning: set_ticklabels() should only be used with a fixed number of ticks, i.e. after set_ticks() or using a FixedLocator.\n",
      "  ax.set_xticklabels([''] + all_categories, rotation=45)\n",
      "C:\\Users\\Plancha\\AppData\\Local\\Temp\\ipykernel_44960\\3988197108.py:45: UserWarning: set_ticklabels() should only be used with a fixed number of ticks, i.e. after set_ticks() or using a FixedLocator.\n",
      "  ax.set_yticklabels([''] + all_categories)\n"
     ]
    },
    {
     "data": {
      "image/png": "[encoded data removed]",
      "text/plain": [
       "<Figure size 800x600 with 2 Axes>"
      ]
     },
     "metadata": {},
     "output_type": "display_data"
    }
   ],
   "source": [
    "# Keep track of correct guesses in a confusion matrix\n",
    "confusion = torch.zeros(n_categories, n_categories)\n",
    "n_confusion = 1000  # Reduced for faster evaluation\n",
    "\n",
    "# Just return an output given a line\n",
    "def evaluate(line_tensor, model):\n",
    "    model.eval()\n",
    "    hidden = model.initHidden()\n",
    "    line_tensor = line_tensor.to(device)\n",
    "\n",
    "    for i in range(line_tensor.size()[0]):\n",
    "        hidden = hidden.to(device)\n",
    "        output, hidden = model(line_tensor[i], hidden)\n",
    "\n",
    "    return output\n",
    "\n",
    "# Go through a bunch of examples and record which are correctly guessed\n",
    "print(\"Evaluating model...\")\n",
    "correct_predictions = 0\n",
    "for i in range(n_confusion):\n",
    "    category, line, category_tensor, line_tensor = randomTrainingExample()\n",
    "    output = evaluate(line_tensor, model_basic)\n",
    "    guess, guess_i = categoryFromOutput(output)\n",
    "    category_i = all_categories.index(category)\n",
    "    confusion[category_i][guess_i] += 1\n",
    "    if guess == category:\n",
    "        correct_predictions += 1\n",
    "\n",
    "accuracy = correct_predictions / n_confusion\n",
    "print(f\"Accuracy: {accuracy:.3f}\")\n",
    "\n",
    "# Normalize by dividing every row by its sum\n",
    "for i in range(n_categories):\n",
    "    if confusion[i].sum() > 0:\n",
    "        confusion[i] = confusion[i] / confusion[i].sum()\n",
    "\n",
    "# Set up plot\n",
    "fig = plt.figure(figsize=(8, 6))\n",
    "ax = fig.add_subplot(111)\n",
    "cax = ax.matshow(confusion.numpy())\n",
    "fig.colorbar(cax)\n",
    "\n",
    "# Set up axes\n",
    "ax.set_xticklabels([''] + all_categories, rotation=45)\n",
    "ax.set_yticklabels([''] + all_categories)\n",
    "\n",
    "# Force label at every tick\n",
    "ax.xaxis.set_major_locator(ticker.MultipleLocator(1))\n",
    "ax.yaxis.set_major_locator(ticker.MultipleLocator(1))\n",
    "\n",
    "plt.title('Confusion Matrix')\n",
    "plt.tight_layout()\n",
    "plt.show()"
   ]
  },
  {
   "cell_type": "markdown",
   "id": "e33661b9",
   "metadata": {
    "id": "kmsE1es5uUGE"
   },
   "source": [
    "## Now we can try predicting our own things! ##"
   ]
  },
  {
   "cell_type": "code",
   "execution_count": null,
   "id": "19143e79",
   "metadata": {
    "colab": {
     "base_uri": "https://localhost:8080/"
    },
    "id": "riBQ2g2iuUGE",
    "outputId": "25a7ac8c-a90f-4d09-cd32-9373d9dec480"
   },
   "outputs": [
    {
     "name": "stdout",
     "output_type": "stream",
     "text": [
      "\n",
      "> Apple announces new iPhone with advanced AI features\n",
      "(-1.35) World\n",
      "(-1.36) Business\n",
      "(-1.37) Sports\n",
      "\n",
      "> The football team won the championship game yesterday\n",
      "(-1.36) World\n",
      "(-1.36) Business\n",
      "(-1.39) Sports\n",
      "\n",
      "> Stock market rises as tech companies report strong earnings\n",
      "(-1.34) Business\n",
      "(-1.39) Sports\n",
      "(-1.40) World\n",
      "\n",
      "> Scientists discover new planet in distant galaxy\n",
      "(-1.35) Sports\n",
      "(-1.36) World\n",
      "(-1.38) Business\n"
     ]
    }
   ],
   "source": [
    "def predict(input_line, n_predictions=3):\n",
    "    print('\\n> %s' % input_line)\n",
    "    with torch.no_grad():\n",
    "        # Truncate if too long\n",
    "        if len(input_line) > 200:\n",
    "            input_line = input_line[:200]\n",
    "        output = evaluate(lineToTensor(input_line), model_basic)\n",
    "\n",
    "        # Get top N categories\n",
    "        topv, topi = output.topk(n_predictions, 1, True)\n",
    "        predictions = []\n",
    "\n",
    "        for i in range(n_predictions):\n",
    "            value = topv[0][i].item()\n",
    "            category_index = topi[0][i].item()\n",
    "            print('(%.2f) %s' % (value, all_categories[category_index]))\n",
    "            predictions.append([value, all_categories[category_index]])\n",
    "\n",
    "# Test predictions with news-like text\n",
    "predict('Apple announces new iPhone with advanced AI features')\n",
    "predict('The football team won the championship game yesterday')\n",
    "predict('Stock market rises as tech companies report strong earnings')\n",
    "predict('Scientists discover new planet in distant galaxy')"
   ]
  },
  {
   "cell_type": "markdown",
   "id": "0a226db7",
   "metadata": {
    "id": "xwp5RUYAuUGE"
   },
   "source": [
    "### So now lets shift to using the RNN Module from Pytorch ###"
   ]
  },
  {
   "cell_type": "code",
   "execution_count": null,
   "id": "d486ef03",
   "metadata": {
    "colab": {
     "base_uri": "https://localhost:8080/"
    },
    "id": "hTRGi1tvuUGE",
    "outputId": "384d256f-7e6f-4c64-8512-bdab61dc3099"
   },
   "outputs": [
    {
     "name": "stdout",
     "output_type": "stream",
     "text": [
      "category = Technology / line = Vodafone begins 3G mobile service Vodafone launche...\n",
      "category = Sports / line = NL Wrap: 5-Hit Beltre Leads Dodgers to Win Over Me...\n",
      "category = World / line = Third US Soldier Killed in Afghan Clashes A US sol...\n",
      "category = Technology / line = European robot looks for clues on Saturn moon Afte...\n",
      "category = Sports / line = Pound says Jones case pivotal in doping fight If t...\n"
     ]
    }
   ],
   "source": [
    "def categoryToTensor(category):\n",
    "    tensor = torch.zeros([1, len(all_categories)], dtype=torch.long)\n",
    "    tensor[0][all_categories.index(category)] = 1\n",
    "    return tensor\n",
    "\n",
    "def randomTrainingExample():\n",
    "    category = randomChoice(all_categories)\n",
    "    line = randomChoice(category_lines[category])\n",
    "    # Truncate very long texts\n",
    "    if len(line) > 200:\n",
    "        line = line[:200]\n",
    "    category_tensor = categoryToTensor(category)\n",
    "    line_tensor = lineToTensor(line)\n",
    "    return category, line, category_tensor, line_tensor\n",
    "\n",
    "# Test the function\n",
    "for i in range(5):\n",
    "    category, line, category_tensor, line_tensor = randomTrainingExample()\n",
    "    print('category =', category, '/ line =', line[:50] + \"...\")"
   ]
  },
  {
   "cell_type": "code",
   "execution_count": null,
   "id": "663a8f59",
   "metadata": {
    "id": "aV7pI3_CuUGE"
   },
   "outputs": [],
   "source": [
    "class RNNPytorch(nn.Module):\n",
    "    def __init__(self, input_size, hidden_size, output_size):\n",
    "        super(RNNPytorch, self).__init__()\n",
    "\n",
    "        self.hidden_size = hidden_size\n",
    "        \n",
    "        self.rnn = nn.RNN(input_size, hidden_size, num_layers=1, batch_first=True) # 1 is num_layers\n",
    "        self.fc = nn.Linear(hidden_size, output_size)\n",
    "        self.lsoftmax = nn.LogSoftmax(dim=1)\n",
    "\n",
    "    def forward(self, x, hidden):\n",
    "\n",
    "        hidden, output = self.rnn(x, hidden)\n",
    "\n",
    "        output = output.contiguous().view(-1, self.hidden_size)\n",
    "        output = self.fc(output)\n",
    "        output = self.lsoftmax(output)\n",
    "        \n",
    "        return output, hidden\n",
    "\n",
    "    def initHidden(self, batch_size):\n",
    "        return torch.zeros(1, 1, self.hidden_size)"
   ]
  },
  {
   "cell_type": "code",
   "execution_count": null,
   "id": "11c9e9ae",
   "metadata": {
    "id": "ym7RVeKHuUGE"
   },
   "outputs": [],
   "source": [
    "def train_pytorch_model(category_tensor, line_tensor, optim, criterion, model):\n",
    "    \n",
    "    model.train()\n",
    "    hidden = model.initHidden(line_tensor.shape[1])\n",
    "    model.zero_grad()\n",
    "    line_tensor = line_tensor.permute(1, 0, 2)\n",
    "#     print(line_tensor.shape)\n",
    "    \n",
    "#     print(category_tensor.shape)\n",
    "    category_tensor = category_tensor.to(device)\n",
    "    line_tensor = line_tensor.to(device)\n",
    "    \n",
    "    # Iterate through the whole line!\n",
    "    hidden = hidden.to(device)\n",
    "    output, hidden = model(line_tensor, hidden)\n",
    "\n",
    "    loss = criterion(output, torch.topk(category_tensor, 1).indices.view(-1))\n",
    "    \n",
    "    # zero the parameter gradients\n",
    "    optim.zero_grad()\n",
    "    loss.backward()\n",
    "    optim.step()\n",
    "\n",
    "    return output, loss.item()"
   ]
  },
  {
   "cell_type": "markdown",
   "id": "b41444ab",
   "metadata": {
    "id": "VAfzhojnuUGE"
   },
   "source": [
    "#### Train from the RNN using pytorch approach ####"
   ]
  },
  {
   "cell_type": "code",
   "execution_count": null,
   "id": "aafddac3",
   "metadata": {
    "colab": {
     "base_uri": "https://localhost:8080/"
    },
    "id": "EfKG1mWXuUGE",
    "outputId": "818c9dbd-577c-49f4-ae1d-5e06f43c412b"
   },
   "outputs": [
    {
     "name": "stdout",
     "output_type": "stream",
     "text": [
      "Starting PyTorch RNN training...\n",
      "5000 10% (0m 17s) 1.4197 Karmazin Brings Sirius Starpow... / World ✗ (Technology)\n",
      "10000 20% (0m 35s) 1.3551 First flight test of new missi... / Technology ✗ (Business)\n",
      "15000 30% (0m 52s) 1.3920 College Recruiters Lure Studen... / Business ✗ (Technology)\n",
      "20000 40% (1m 10s) 1.3370 Time Warner Stock Has Room to ... / Business ✗ (Technology)\n",
      "25000 50% (1m 27s) 1.5666 Officials say Linux not a pric... / Sports ✗ (Technology)\n",
      "30000 60% (1m 45s) 1.3488 IBM protects passwords with PC... / Sports ✗ (Technology)\n",
      "35000 70% (2m 2s) 1.5445 Don't Marry Until March Plan a... / Sports ✗ (Business)\n",
      "40000 80% (2m 19s) 1.5988 JDS Uniphase Posts Deeper 1Q L... / Sports ✗ (Business)\n",
      "45000 90% (2m 37s) 1.1679 Consumer confidence takes tumb... / Business ✓\n",
      "50000 100% (2m 54s) 1.5018 Windies into semis Ricardo Pow... / Technology ✗ (Sports)\n"
     ]
    }
   ],
   "source": [
    "criterion = nn.NLLLoss() # Because we are using Log_softmax\n",
    "learning_rate = 0.005 # If you set this too high, it might explode. If too low, it might not learn\n",
    "N_HIDDEN = 128\n",
    "\n",
    "model_pytorch = RNNPytorch(n_letters, N_HIDDEN, n_categories) #Vocab_size, hidden size, output classes\n",
    "model_pytorch = model_pytorch.to(device)\n",
    "optimizer = optim.SGD(model_pytorch.parameters(), lr=learning_rate)\n",
    "\n",
    "n_iters = 50000  # Reduced iterations\n",
    "print_every = 5000\n",
    "plot_every = 1000\n",
    "\n",
    "# Keep track of losses for plotting\n",
    "current_loss = 0\n",
    "all_losses = []\n",
    "\n",
    "start = time.time()\n",
    "\n",
    "print(\"Starting PyTorch RNN training...\")\n",
    "for iter in range(1, n_iters + 1):\n",
    "    category, line, category_tensor, line_tensor = randomTrainingExample()\n",
    "    output, loss = train_pytorch_model(category_tensor, line_tensor, optimizer, criterion, model_pytorch)\n",
    "    current_loss += loss\n",
    "    # Print iter number, loss, name and guess\n",
    "    if iter % print_every == 0:\n",
    "        guess, guess_i = categoryFromOutput(output)\n",
    "        correct = '✓' if guess == category else '✗ (%s)' % category\n",
    "        print('%d %d%% (%s) %.4f %s / %s %s' % (iter, iter / n_iters * 100, timeSince(start), loss, line[:30]+\"...\", guess, correct))\n",
    "\n",
    "    # Add current loss avg to list of losses\n",
    "    if iter % plot_every == 0:\n",
    "        all_losses.append(current_loss / plot_every)\n",
    "        current_loss = 0"
   ]
  },
  {
   "cell_type": "code",
   "execution_count": null,
   "id": "1e81b61d",
   "metadata": {
    "colab": {
     "base_uri": "https://localhost:8080/",
     "height": 283
    },
    "id": "eFAsPtDCuUGE",
    "lines_to_next_cell": 1,
    "outputId": "a85ac13d-d8cb-4348-8d71-e4bdd1b195fb"
   },
   "outputs": [
    {
     "data": {
      "image/png": "[encoded data removed]",
      "text/plain": [
       "<Figure size 640x480 with 1 Axes>"
      ]
     },
     "metadata": {},
     "output_type": "display_data"
    }
   ],
   "source": [
    "# PLOT THE RESULT\n",
    "plt.figure()\n",
    "plt.plot(all_losses)\n",
    "plt.title('PyTorch RNN Training Loss')\n",
    "plt.xlabel('Iterations (x1000)')\n",
    "plt.ylabel('Loss')\n",
    "plt.show()"
   ]
  },
  {
   "cell_type": "code",
   "execution_count": null,
   "id": "2c877cae",
   "metadata": {
    "id": "_qw4fy_AuUGF"
   },
   "outputs": [],
   "source": [
    "# Just return an output given a line\n",
    "def evaluate(line_tensor, model):\n",
    "    model.eval()\n",
    "    hidden = model.initHidden(line_tensor.shape[1])\n",
    "    hidden = hidden.to(device)\n",
    "\n",
    "    line_tensor = line_tensor.permute(1, 0, 2)\n",
    "    line_tensor = line_tensor.to(device)\n",
    "    output, hidden = model(line_tensor, hidden)\n",
    "    \n",
    "    return output"
   ]
  },
  {
   "cell_type": "code",
   "execution_count": null,
   "id": "d55cb043",
   "metadata": {
    "colab": {
     "base_uri": "https://localhost:8080/"
    },
    "id": "bqd3cYAVuUGF",
    "outputId": "0d6832a5-51f9-4507-fe0a-68e08866c905"
   },
   "outputs": [
    {
     "name": "stdout",
     "output_type": "stream",
     "text": [
      "\n",
      "> Apple announces new iPhone with advanced AI features\n",
      "(-1.29) World\n",
      "(-1.39) Sports\n",
      "(-1.42) Technology\n",
      "\n",
      "> The football team won the championship game yesterday\n",
      "(-1.16) World\n",
      "(-1.31) Business\n",
      "(-1.54) Sports\n",
      "\n",
      "> Stock market rises as tech companies report strong earnings\n",
      "(-1.24) Business\n",
      "(-1.36) Technology\n",
      "(-1.47) World\n",
      "\n",
      "> Scientists discover new planet in distant galaxy\n",
      "(-1.15) Sports\n",
      "(-1.28) World\n",
      "(-1.45) Business\n"
     ]
    }
   ],
   "source": [
    "def predict(input_line, n_predictions=3):\n",
    "    print('\\n> %s' % input_line)\n",
    "    with torch.no_grad():\n",
    "        # Truncate if too long\n",
    "        if len(input_line) > 200:\n",
    "            input_line = input_line[:200]\n",
    "        output = evaluate(lineToTensor(input_line), model_pytorch)\n",
    "\n",
    "        # Get top N categories\n",
    "        topv, topi = output.topk(n_predictions, 1, True)\n",
    "        predictions = []\n",
    "\n",
    "        for i in range(n_predictions):\n",
    "            value = topv[0][i].item()\n",
    "            category_index = topi[0][i].item()\n",
    "            print('(%.2f) %s' % (value, all_categories[category_index]))\n",
    "            predictions.append([value, all_categories[category_index]])\n",
    "\n",
    "# Test predictions with news-like text\n",
    "predict('Apple announces new iPhone with advanced AI features')\n",
    "predict('The football team won the championship game yesterday')\n",
    "predict('Stock market rises as tech companies report strong earnings')\n",
    "predict('Scientists discover new planet in distant galaxy')"
   ]
  }
 ],
 "metadata": {
  "kernelspec": {
   "display_name": "gpu",
   "language": "python",
   "name": "python3"
  }
 },
 "nbformat": 4,
 "nbformat_minor": 5
}
