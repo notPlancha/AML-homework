{
 "cells": [
  {
   "cell_type": "code",
   "execution_count": null,
   "id": "2df958af",
   "metadata": {},
   "outputs": [
    {
     "data": {
      "text/html": [
       "<div>\n",
       "<style scoped>\n",
       "    .dataframe tbody tr th:only-of-type {\n",
       "        vertical-align: middle;\n",
       "    }\n",
       "\n",
       "    .dataframe tbody tr th {\n",
       "        vertical-align: top;\n",
       "    }\n",
       "\n",
       "    .dataframe thead th {\n",
       "        text-align: right;\n",
       "    }\n",
       "</style>\n",
       "<table border=\"1\" class=\"dataframe\">\n",
       "  <thead>\n",
       "    <tr style=\"text-align: right;\">\n",
       "      <th></th>\n",
       "      <th>label</th>\n",
       "      <th>pixel1</th>\n",
       "      <th>pixel2</th>\n",
       "      <th>pixel3</th>\n",
       "      <th>pixel4</th>\n",
       "      <th>pixel5</th>\n",
       "      <th>pixel6</th>\n",
       "      <th>pixel7</th>\n",
       "      <th>pixel8</th>\n",
       "      <th>pixel9</th>\n",
       "      <th>...</th>\n",
       "      <th>pixel775</th>\n",
       "      <th>pixel776</th>\n",
       "      <th>pixel777</th>\n",
       "      <th>pixel778</th>\n",
       "      <th>pixel779</th>\n",
       "      <th>pixel780</th>\n",
       "      <th>pixel781</th>\n",
       "      <th>pixel782</th>\n",
       "      <th>pixel783</th>\n",
       "      <th>pixel784</th>\n",
       "    </tr>\n",
       "  </thead>\n",
       "  <tbody>\n",
       "    <tr>\n",
       "      <th>0</th>\n",
       "      <td>6</td>\n",
       "      <td>149</td>\n",
       "      <td>149</td>\n",
       "      <td>150</td>\n",
       "      <td>150</td>\n",
       "      <td>150</td>\n",
       "      <td>151</td>\n",
       "      <td>151</td>\n",
       "      <td>150</td>\n",
       "      <td>151</td>\n",
       "      <td>...</td>\n",
       "      <td>138</td>\n",
       "      <td>148</td>\n",
       "      <td>127</td>\n",
       "      <td>89</td>\n",
       "      <td>82</td>\n",
       "      <td>96</td>\n",
       "      <td>106</td>\n",
       "      <td>112</td>\n",
       "      <td>120</td>\n",
       "      <td>107</td>\n",
       "    </tr>\n",
       "    <tr>\n",
       "      <th>1</th>\n",
       "      <td>5</td>\n",
       "      <td>126</td>\n",
       "      <td>128</td>\n",
       "      <td>131</td>\n",
       "      <td>132</td>\n",
       "      <td>133</td>\n",
       "      <td>134</td>\n",
       "      <td>135</td>\n",
       "      <td>135</td>\n",
       "      <td>136</td>\n",
       "      <td>...</td>\n",
       "      <td>47</td>\n",
       "      <td>104</td>\n",
       "      <td>194</td>\n",
       "      <td>183</td>\n",
       "      <td>186</td>\n",
       "      <td>184</td>\n",
       "      <td>184</td>\n",
       "      <td>184</td>\n",
       "      <td>182</td>\n",
       "      <td>180</td>\n",
       "    </tr>\n",
       "    <tr>\n",
       "      <th>2</th>\n",
       "      <td>10</td>\n",
       "      <td>85</td>\n",
       "      <td>88</td>\n",
       "      <td>92</td>\n",
       "      <td>96</td>\n",
       "      <td>105</td>\n",
       "      <td>123</td>\n",
       "      <td>135</td>\n",
       "      <td>143</td>\n",
       "      <td>147</td>\n",
       "      <td>...</td>\n",
       "      <td>68</td>\n",
       "      <td>166</td>\n",
       "      <td>242</td>\n",
       "      <td>227</td>\n",
       "      <td>230</td>\n",
       "      <td>227</td>\n",
       "      <td>226</td>\n",
       "      <td>225</td>\n",
       "      <td>224</td>\n",
       "      <td>222</td>\n",
       "    </tr>\n",
       "    <tr>\n",
       "      <th>3</th>\n",
       "      <td>0</td>\n",
       "      <td>203</td>\n",
       "      <td>205</td>\n",
       "      <td>207</td>\n",
       "      <td>206</td>\n",
       "      <td>207</td>\n",
       "      <td>209</td>\n",
       "      <td>210</td>\n",
       "      <td>209</td>\n",
       "      <td>210</td>\n",
       "      <td>...</td>\n",
       "      <td>154</td>\n",
       "      <td>248</td>\n",
       "      <td>247</td>\n",
       "      <td>248</td>\n",
       "      <td>253</td>\n",
       "      <td>236</td>\n",
       "      <td>230</td>\n",
       "      <td>240</td>\n",
       "      <td>253</td>\n",
       "      <td>255</td>\n",
       "    </tr>\n",
       "    <tr>\n",
       "      <th>4</th>\n",
       "      <td>3</td>\n",
       "      <td>188</td>\n",
       "      <td>191</td>\n",
       "      <td>193</td>\n",
       "      <td>195</td>\n",
       "      <td>199</td>\n",
       "      <td>201</td>\n",
       "      <td>202</td>\n",
       "      <td>203</td>\n",
       "      <td>203</td>\n",
       "      <td>...</td>\n",
       "      <td>26</td>\n",
       "      <td>40</td>\n",
       "      <td>64</td>\n",
       "      <td>48</td>\n",
       "      <td>29</td>\n",
       "      <td>46</td>\n",
       "      <td>49</td>\n",
       "      <td>46</td>\n",
       "      <td>46</td>\n",
       "      <td>53</td>\n",
       "    </tr>\n",
       "    <tr>\n",
       "      <th>...</th>\n",
       "      <td>...</td>\n",
       "      <td>...</td>\n",
       "      <td>...</td>\n",
       "      <td>...</td>\n",
       "      <td>...</td>\n",
       "      <td>...</td>\n",
       "      <td>...</td>\n",
       "      <td>...</td>\n",
       "      <td>...</td>\n",
       "      <td>...</td>\n",
       "      <td>...</td>\n",
       "      <td>...</td>\n",
       "      <td>...</td>\n",
       "      <td>...</td>\n",
       "      <td>...</td>\n",
       "      <td>...</td>\n",
       "      <td>...</td>\n",
       "      <td>...</td>\n",
       "      <td>...</td>\n",
       "      <td>...</td>\n",
       "      <td>...</td>\n",
       "    </tr>\n",
       "    <tr>\n",
       "      <th>7167</th>\n",
       "      <td>1</td>\n",
       "      <td>135</td>\n",
       "      <td>119</td>\n",
       "      <td>108</td>\n",
       "      <td>102</td>\n",
       "      <td>105</td>\n",
       "      <td>99</td>\n",
       "      <td>61</td>\n",
       "      <td>103</td>\n",
       "      <td>121</td>\n",
       "      <td>...</td>\n",
       "      <td>108</td>\n",
       "      <td>112</td>\n",
       "      <td>116</td>\n",
       "      <td>114</td>\n",
       "      <td>118</td>\n",
       "      <td>180</td>\n",
       "      <td>184</td>\n",
       "      <td>176</td>\n",
       "      <td>167</td>\n",
       "      <td>163</td>\n",
       "    </tr>\n",
       "    <tr>\n",
       "      <th>7168</th>\n",
       "      <td>12</td>\n",
       "      <td>157</td>\n",
       "      <td>159</td>\n",
       "      <td>161</td>\n",
       "      <td>164</td>\n",
       "      <td>166</td>\n",
       "      <td>166</td>\n",
       "      <td>171</td>\n",
       "      <td>174</td>\n",
       "      <td>175</td>\n",
       "      <td>...</td>\n",
       "      <td>213</td>\n",
       "      <td>213</td>\n",
       "      <td>213</td>\n",
       "      <td>214</td>\n",
       "      <td>213</td>\n",
       "      <td>211</td>\n",
       "      <td>210</td>\n",
       "      <td>210</td>\n",
       "      <td>209</td>\n",
       "      <td>208</td>\n",
       "    </tr>\n",
       "    <tr>\n",
       "      <th>7169</th>\n",
       "      <td>2</td>\n",
       "      <td>190</td>\n",
       "      <td>191</td>\n",
       "      <td>190</td>\n",
       "      <td>191</td>\n",
       "      <td>190</td>\n",
       "      <td>190</td>\n",
       "      <td>192</td>\n",
       "      <td>192</td>\n",
       "      <td>191</td>\n",
       "      <td>...</td>\n",
       "      <td>216</td>\n",
       "      <td>215</td>\n",
       "      <td>213</td>\n",
       "      <td>214</td>\n",
       "      <td>214</td>\n",
       "      <td>213</td>\n",
       "      <td>210</td>\n",
       "      <td>211</td>\n",
       "      <td>209</td>\n",
       "      <td>208</td>\n",
       "    </tr>\n",
       "    <tr>\n",
       "      <th>7170</th>\n",
       "      <td>4</td>\n",
       "      <td>201</td>\n",
       "      <td>205</td>\n",
       "      <td>208</td>\n",
       "      <td>209</td>\n",
       "      <td>214</td>\n",
       "      <td>216</td>\n",
       "      <td>218</td>\n",
       "      <td>223</td>\n",
       "      <td>226</td>\n",
       "      <td>...</td>\n",
       "      <td>112</td>\n",
       "      <td>169</td>\n",
       "      <td>255</td>\n",
       "      <td>255</td>\n",
       "      <td>237</td>\n",
       "      <td>113</td>\n",
       "      <td>91</td>\n",
       "      <td>67</td>\n",
       "      <td>70</td>\n",
       "      <td>63</td>\n",
       "    </tr>\n",
       "    <tr>\n",
       "      <th>7171</th>\n",
       "      <td>2</td>\n",
       "      <td>173</td>\n",
       "      <td>174</td>\n",
       "      <td>173</td>\n",
       "      <td>174</td>\n",
       "      <td>173</td>\n",
       "      <td>173</td>\n",
       "      <td>175</td>\n",
       "      <td>175</td>\n",
       "      <td>174</td>\n",
       "      <td>...</td>\n",
       "      <td>201</td>\n",
       "      <td>200</td>\n",
       "      <td>197</td>\n",
       "      <td>198</td>\n",
       "      <td>198</td>\n",
       "      <td>197</td>\n",
       "      <td>195</td>\n",
       "      <td>195</td>\n",
       "      <td>193</td>\n",
       "      <td>192</td>\n",
       "    </tr>\n",
       "  </tbody>\n",
       "</table>\n",
       "<p>7172 rows × 785 columns</p>\n",
       "</div>"
      ],
      "text/plain": [
       "      label  pixel1  pixel2  pixel3  pixel4  pixel5  pixel6  pixel7  pixel8  \\\n",
       "0         6     149     149     150     150     150     151     151     150   \n",
       "1         5     126     128     131     132     133     134     135     135   \n",
       "2        10      85      88      92      96     105     123     135     143   \n",
       "3         0     203     205     207     206     207     209     210     209   \n",
       "4         3     188     191     193     195     199     201     202     203   \n",
       "...     ...     ...     ...     ...     ...     ...     ...     ...     ...   \n",
       "7167      1     135     119     108     102     105      99      61     103   \n",
       "7168     12     157     159     161     164     166     166     171     174   \n",
       "7169      2     190     191     190     191     190     190     192     192   \n",
       "7170      4     201     205     208     209     214     216     218     223   \n",
       "7171      2     173     174     173     174     173     173     175     175   \n",
       "\n",
       "      pixel9  ...  pixel775  pixel776  pixel777  pixel778  pixel779  pixel780  \\\n",
       "0        151  ...       138       148       127        89        82        96   \n",
       "1        136  ...        47       104       194       183       186       184   \n",
       "2        147  ...        68       166       242       227       230       227   \n",
       "3        210  ...       154       248       247       248       253       236   \n",
       "4        203  ...        26        40        64        48        29        46   \n",
       "...      ...  ...       ...       ...       ...       ...       ...       ...   \n",
       "7167     121  ...       108       112       116       114       118       180   \n",
       "7168     175  ...       213       213       213       214       213       211   \n",
       "7169     191  ...       216       215       213       214       214       213   \n",
       "7170     226  ...       112       169       255       255       237       113   \n",
       "7171     174  ...       201       200       197       198       198       197   \n",
       "\n",
       "      pixel781  pixel782  pixel783  pixel784  \n",
       "0          106       112       120       107  \n",
       "1          184       184       182       180  \n",
       "2          226       225       224       222  \n",
       "3          230       240       253       255  \n",
       "4           49        46        46        53  \n",
       "...        ...       ...       ...       ...  \n",
       "7167       184       176       167       163  \n",
       "7168       210       210       209       208  \n",
       "7169       210       211       209       208  \n",
       "7170        91        67        70        63  \n",
       "7171       195       195       193       192  \n",
       "\n",
       "[7172 rows x 785 columns]"
      ]
     },
     "execution_count": 1,
     "metadata": {},
     "output_type": "execute_result"
    }
   ],
   "source": [
    "import os\n",
    "\n",
    "os.environ[\"KERAS_BACKEND\"] = \"torch\"\n",
    "\n",
    "import keras\n",
    "import pandas as pd\n",
    "from pyprojroot import here\n",
    "import numpy as np\n",
    "from pathlib import Path\n",
    "\n",
    "# Download dataset if not already present\n",
    "if not (here(r\"data/sign_language_mnist/sign_mnist_train.csv\").exists()):\n",
    "  import kagglehub\n",
    "  dwnl_path: str = kagglehub.dataset_download(\n",
    "    \"datamunge/sign-language-mnist\", force_download=True\n",
    "  )\n",
    "  # copy the downloaded files to the correct location\n",
    "  import shutil\n",
    "  dest_dir = here(r\"data/sign_language_mnist\")\n",
    "  dest_dir.mkdir(parents=True, exist_ok=True)\n",
    "  shutil.move(\n",
    "    Path(dwnl_path) / \"sign_mnist_train.csv\",\n",
    "    dest_dir / \"sign_mnist_train.csv\"\n",
    "  )\n",
    "  shutil.move(\n",
    "    Path(dwnl_path) / \"sign_mnist_test.csv\",\n",
    "    dest_dir / \"sign_mnist_test.csv\"\n",
    "  )\n",
    "\n",
    "test_pd = pd.read_csv(here(r\"data/sign_language_mnist/sign_mnist_test.csv\"))\n",
    "train_pd = pd.read_csv(here(r\"data/sign_language_mnist/sign_mnist_train.csv\"))\n",
    "test_pd"
   ]
  },
  {
   "cell_type": "code",
   "execution_count": 2,
   "id": "1aea79db",
   "metadata": {},
   "outputs": [
    {
     "data": {
      "text/plain": [
       "<torch.utils.data.dataloader.DataLoader at 0x28ba6a47c50>"
      ]
     },
     "execution_count": 2,
     "metadata": {},
     "output_type": "execute_result"
    }
   ],
   "source": [
    "os.environ[\"TORCH_HOME\"] = str(here(\"cache\"))\n",
    "import torch\n",
    "from torch.utils.data import Dataset\n",
    "from torch.utils.data import DataLoader\n",
    "import torchvision\n",
    "from sklearn.model_selection import train_test_split\n",
    "\n",
    "DEVICE = \"cuda\" if torch.cuda.is_available() else \"cpu\"\n",
    "\n",
    "\n",
    "class SignMNIST(Dataset):\n",
    "  def __init__(self, df: pd.DataFrame):\n",
    "    self.df = df\n",
    "    self.target: np.array = self.df[\"label\"].values\n",
    "    self.data = self.df.drop(columns=[\"label\"]).values\n",
    "    self.data = self.data.reshape(self.data.shape[0], 28, 28)\n",
    "\n",
    "  def __len__(self):\n",
    "    return len(self.data)\n",
    "\n",
    "  def __getitem__(self, index: list[int]) -> tuple:\n",
    "    image = self.data[index]  # shape (28, 28)\n",
    "\n",
    "    image = image.astype(np.float32) / 255.0  # min max Normalize to [0, 1]\n",
    "    image = torch.tensor(image)\n",
    "    image = image.unsqueeze(0)  # Add channel dimension (C x H x W)\n",
    "    image = torchvision.transforms.functional.resize(image, (224, 224))\n",
    "\n",
    "    label = self.target[index]\n",
    "    label = torch.tensor(label, dtype=torch.int64, device=DEVICE)\n",
    "\n",
    "    return image, label\n",
    "\n",
    "  @staticmethod\n",
    "  def label_to_letter(label: int) -> str:\n",
    "    return chr(label + 65)\n",
    "\n",
    "  @property\n",
    "  def shape(self) -> tuple:\n",
    "    return self.data.shape, self.target.shape\n",
    "\n",
    "\n",
    "keras.utils.set_random_seed(1)\n",
    "train_pd_split, val_pd = train_test_split(train_pd, test_size=0.1, stratify=None)\n",
    "\n",
    "train_dataloader = DataLoader(\n",
    "  train := SignMNIST(train_pd_split),\n",
    "  batch_size=32,\n",
    "  shuffle=True,\n",
    "  # num_workers=15\n",
    ")\n",
    "val_dataloader = DataLoader(\n",
    "  val := SignMNIST(val_pd),\n",
    "  batch_size=32,\n",
    "  shuffle=False,\n",
    "  # num_workers=15,\n",
    "  # persistent_workers=True\n",
    ")\n",
    "test_dataloader = DataLoader(\n",
    "  test := SignMNIST(test_pd),\n",
    "  batch_size=32,\n",
    "  shuffle=False,\n",
    "  # num_workers=15,\n",
    ")\n",
    "train_dataloader"
   ]
  },
  {
   "cell_type": "code",
   "execution_count": 3,
   "id": "afe70192",
   "metadata": {},
   "outputs": [
    {
     "name": "stderr",
     "output_type": "stream",
     "text": [
      "Downloading: \"https://download.pytorch.org/models/alexnet-owt-7be5be79.pth\" to c:\\Users\\Plancha\\Desktop\\AML-homework\\cache\\hub\\checkpoints\\alexnet-owt-7be5be79.pth\n",
      "100%|██████████| 233M/233M [00:09<00:00, 25.6MB/s] \n"
     ]
    },
    {
     "data": {
      "text/plain": [
       "AlexNet(\n",
       "  (features): Sequential(\n",
       "    (0): Conv2d(3, 64, kernel_size=(11, 11), stride=(4, 4), padding=(2, 2))\n",
       "    (1): ReLU(inplace=True)\n",
       "    (2): MaxPool2d(kernel_size=3, stride=2, padding=0, dilation=1, ceil_mode=False)\n",
       "    (3): Conv2d(64, 192, kernel_size=(5, 5), stride=(1, 1), padding=(2, 2))\n",
       "    (4): ReLU(inplace=True)\n",
       "    (5): MaxPool2d(kernel_size=3, stride=2, padding=0, dilation=1, ceil_mode=False)\n",
       "    (6): Conv2d(192, 384, kernel_size=(3, 3), stride=(1, 1), padding=(1, 1))\n",
       "    (7): ReLU(inplace=True)\n",
       "    (8): Conv2d(384, 256, kernel_size=(3, 3), stride=(1, 1), padding=(1, 1))\n",
       "    (9): ReLU(inplace=True)\n",
       "    (10): Conv2d(256, 256, kernel_size=(3, 3), stride=(1, 1), padding=(1, 1))\n",
       "    (11): ReLU(inplace=True)\n",
       "    (12): MaxPool2d(kernel_size=3, stride=2, padding=0, dilation=1, ceil_mode=False)\n",
       "  )\n",
       "  (avgpool): AdaptiveAvgPool2d(output_size=(6, 6))\n",
       "  (classifier): Sequential(\n",
       "    (0): Dropout(p=0.5, inplace=False)\n",
       "    (1): Linear(in_features=9216, out_features=4096, bias=True)\n",
       "    (2): ReLU(inplace=True)\n",
       "    (3): Dropout(p=0.5, inplace=False)\n",
       "    (4): Linear(in_features=4096, out_features=4096, bias=True)\n",
       "    (5): ReLU(inplace=True)\n",
       "    (6): Linear(in_features=4096, out_features=1000, bias=True)\n",
       "  )\n",
       ")"
      ]
     },
     "execution_count": 3,
     "metadata": {},
     "output_type": "execute_result"
    }
   ],
   "source": [
    "model = torchvision.models.alexnet(weights=\"DEFAULT\")\n",
    "model"
   ]
  },
  {
   "cell_type": "code",
   "execution_count": 4,
   "id": "ca5e246b",
   "metadata": {},
   "outputs": [
    {
     "data": {
      "text/plain": [
       "==========================================================================================\n",
       "Layer (type:depth-idx)                   Output Shape              Param #\n",
       "==========================================================================================\n",
       "AlexNet                                  [64, 1000]                --\n",
       "├─Sequential: 1-1                        [64, 256, 6, 6]           --\n",
       "│    └─Conv2d: 2-1                       [64, 64, 55, 55]          23,296\n",
       "│    └─ReLU: 2-2                         [64, 64, 55, 55]          --\n",
       "│    └─MaxPool2d: 2-3                    [64, 64, 27, 27]          --\n",
       "│    └─Conv2d: 2-4                       [64, 192, 27, 27]         307,392\n",
       "│    └─ReLU: 2-5                         [64, 192, 27, 27]         --\n",
       "│    └─MaxPool2d: 2-6                    [64, 192, 13, 13]         --\n",
       "│    └─Conv2d: 2-7                       [64, 384, 13, 13]         663,936\n",
       "│    └─ReLU: 2-8                         [64, 384, 13, 13]         --\n",
       "│    └─Conv2d: 2-9                       [64, 256, 13, 13]         884,992\n",
       "│    └─ReLU: 2-10                        [64, 256, 13, 13]         --\n",
       "│    └─Conv2d: 2-11                      [64, 256, 13, 13]         590,080\n",
       "│    └─ReLU: 2-12                        [64, 256, 13, 13]         --\n",
       "│    └─MaxPool2d: 2-13                   [64, 256, 6, 6]           --\n",
       "├─AdaptiveAvgPool2d: 1-2                 [64, 256, 6, 6]           --\n",
       "├─Sequential: 1-3                        [64, 1000]                --\n",
       "│    └─Dropout: 2-14                     [64, 9216]                --\n",
       "│    └─Linear: 2-15                      [64, 4096]                37,752,832\n",
       "│    └─ReLU: 2-16                        [64, 4096]                --\n",
       "│    └─Dropout: 2-17                     [64, 4096]                --\n",
       "│    └─Linear: 2-18                      [64, 4096]                16,781,312\n",
       "│    └─ReLU: 2-19                        [64, 4096]                --\n",
       "│    └─Linear: 2-20                      [64, 1000]                4,097,000\n",
       "==========================================================================================\n",
       "Total params: 61,100,840\n",
       "Trainable params: 61,100,840\n",
       "Non-trainable params: 0\n",
       "Total mult-adds (Units.GIGABYTES): 45.74\n",
       "==========================================================================================\n",
       "Input size (MB): 38.54\n",
       "Forward/backward pass size (MB): 253.02\n",
       "Params size (MB): 244.40\n",
       "Estimated Total Size (MB): 535.96\n",
       "=========================================================================================="
      ]
     },
     "execution_count": 4,
     "metadata": {},
     "output_type": "execute_result"
    }
   ],
   "source": [
    "from torchinfo import summary\n",
    "from collections import namedtuple\n",
    "\n",
    "Shape = namedtuple(\"Shape\", [\"batchsize\", \"channels\", \"height\", \"width\"])\n",
    "summary(model, Shape(batchsize=64, channels=3, height=224, width=224), device=\"cuda\")"
   ]
  },
  {
   "cell_type": "code",
   "execution_count": 5,
   "id": "9438b8fe",
   "metadata": {},
   "outputs": [
    {
     "data": {
      "text/plain": [
       "FrozenAlexNet(\n",
       "  (model): AlexNet(\n",
       "    (features): Sequential(\n",
       "      (0): Conv2d(1, 64, kernel_size=(11, 11), stride=(4, 4), padding=(2, 2))\n",
       "      (1): ReLU(inplace=True)\n",
       "      (2): MaxPool2d(kernel_size=3, stride=2, padding=0, dilation=1, ceil_mode=False)\n",
       "      (3): Conv2d(64, 192, kernel_size=(5, 5), stride=(1, 1), padding=(2, 2))\n",
       "      (4): ReLU(inplace=True)\n",
       "      (5): MaxPool2d(kernel_size=3, stride=2, padding=0, dilation=1, ceil_mode=False)\n",
       "      (6): Conv2d(192, 384, kernel_size=(3, 3), stride=(1, 1), padding=(1, 1))\n",
       "      (7): ReLU(inplace=True)\n",
       "      (8): Conv2d(384, 256, kernel_size=(3, 3), stride=(1, 1), padding=(1, 1))\n",
       "      (9): ReLU(inplace=True)\n",
       "      (10): Conv2d(256, 256, kernel_size=(3, 3), stride=(1, 1), padding=(1, 1))\n",
       "      (11): ReLU(inplace=True)\n",
       "      (12): MaxPool2d(kernel_size=3, stride=2, padding=0, dilation=1, ceil_mode=False)\n",
       "    )\n",
       "    (avgpool): AdaptiveAvgPool2d(output_size=(6, 6))\n",
       "    (classifier): Sequential(\n",
       "      (0): Dropout(p=0.5, inplace=False)\n",
       "      (1): Linear(in_features=9216, out_features=4096, bias=True)\n",
       "      (2): ReLU(inplace=True)\n",
       "      (3): Dropout(p=0.5, inplace=False)\n",
       "      (4): Linear(in_features=4096, out_features=4096, bias=True)\n",
       "      (5): ReLU(inplace=True)\n",
       "      (6): Linear(in_features=4096, out_features=26, bias=True)\n",
       "    )\n",
       "  )\n",
       ")"
      ]
     },
     "execution_count": 5,
     "metadata": {},
     "output_type": "execute_result"
    }
   ],
   "source": [
    "import lightning as L\n",
    "import torchvision.transforms as transforms\n",
    "from collections import namedtuple\n",
    "\n",
    "Metrics = namedtuple(\"Metrics\", [\"loss\", \"accuracy\"])\n",
    "\n",
    "\n",
    "class FrozenAlexNet(L.LightningModule):\n",
    "  def __init__(self, model: torch.nn.Module):\n",
    "    super().__init__()\n",
    "    self.model = model\n",
    "    self.results: list[Metrics] = []\n",
    "    self._results_epoch: list[Metrics] = []\n",
    "    with torch.no_grad():\n",
    "      # change out to 26 classes\n",
    "      self.model.classifier[6] = torch.nn.Linear(4096, 26)  # 26 letters of the alphabet\n",
    "\n",
    "      # change in to 1 channel and keep weights somewhat similar\n",
    "      trained_inp_layer = self.model.features[0]\n",
    "      new_inp_layer = torch.nn.Conv2d(\n",
    "        1, 64, kernel_size=(11, 11), stride=(4, 4), padding=(2, 2)\n",
    "      )\n",
    "      new_inp_layer.weight.data = trained_inp_layer.weight.data.mean(\n",
    "        dim=1, keepdim=True\n",
    "      )\n",
    "      new_inp_layer.bias.data = trained_inp_layer.bias.data\n",
    "      model.features[0] = new_inp_layer\n",
    "\n",
    "      # freeze layers\n",
    "      for param in self.model.parameters():\n",
    "        param.requires_grad = False\n",
    "      model.features[0].weight.requires_grad = True\n",
    "      model.features[0].bias.requires_grad = True\n",
    "      model.classifier[6].weight.requires_grad = True\n",
    "      model.classifier[6].bias.requires_grad = True\n",
    "\n",
    "  def training_step(self, batch, batch_idx):\n",
    "    x, _ = batch\n",
    "    y = self.model(x)\n",
    "    loss = torch.nn.functional.cross_entropy(y, _)\n",
    "    return loss\n",
    "\n",
    "  def validation_step(self, batch, batch_idx):\n",
    "    x, _ = batch\n",
    "    y = self.model(x)\n",
    "    loss = torch.nn.functional.cross_entropy(y, _)\n",
    "    self.log(\"val_loss\", loss, prog_bar=True)\n",
    "    acc = (y.argmax(dim=1) == _).float().mean()\n",
    "    self.log(\"val_acc\", acc, prog_bar=True)\n",
    "    self._results_epoch.append(Metrics(loss.item(), acc.item()))\n",
    "\n",
    "  def on_validation_epoch_start(self):\n",
    "    self._results_epoch = []\n",
    "\n",
    "  def on_validation_epoch_end(self):\n",
    "    self.results.append(\n",
    "      Metrics(\n",
    "        np.mean([m.loss for m in self._results_epoch]),\n",
    "        np.mean([m.accuracy for m in self._results_epoch]),\n",
    "      )\n",
    "    )\n",
    "    self._results_epoch = []\n",
    "\n",
    "  def test_step(self, batch, batch_idx):\n",
    "    x, _ = batch\n",
    "    y = self.model(x)\n",
    "    loss = torch.nn.functional.cross_entropy(y, _)\n",
    "    self.log(\"test_loss\", loss, prog_bar=True)\n",
    "    acc = (y.argmax(dim=1) == _).float().mean()\n",
    "    self.log(\"test_acc\", acc, prog_bar=True)\n",
    "\n",
    "  def configure_optimizers(self):\n",
    "    return torch.optim.Adam(self.parameters(), lr=1e-3)\n",
    "\n",
    "\n",
    "frozen_alex_net = FrozenAlexNet(model)\n",
    "frozen_alex_net"
   ]
  },
  {
   "cell_type": "code",
   "execution_count": 6,
   "id": "2fdbd1eb",
   "metadata": {},
   "outputs": [
    {
     "name": "stderr",
     "output_type": "stream",
     "text": [
      "GPU available: True (cuda), used: True\n",
      "TPU available: False, using: 0 TPU cores\n",
      "HPU available: False, using: 0 HPUs\n",
      "c:\\Users\\Plancha\\Desktop\\AML-homework\\.pixi\\envs\\gpu\\Lib\\site-packages\\lightning\\pytorch\\trainer\\connectors\\logger_connector\\logger_connector.py:76: Starting from v1.9.0, `tensorboardX` has been removed as a dependency of the `lightning.pytorch` package, due to potential conflicts with other packages in the ML ecosystem. For this reason, `logger=True` will use `CSVLogger` as the default logger, unless the `tensorboard` or `tensorboardX` packages are found. Please `pip install lightning[extra]` or one of them to enable TensorBoard support by default\n",
      "LOCAL_RANK: 0 - CUDA_VISIBLE_DEVICES: [0]\n",
      "\n",
      "  | Name  | Type    | Params | Mode \n",
      "------------------------------------------\n",
      "0 | model | AlexNet | 57.1 M | train\n",
      "------------------------------------------\n",
      "114 K     Trainable params\n",
      "57.0 M    Non-trainable params\n",
      "57.1 M    Total params\n",
      "228.379   Total estimated model params size (MB)\n",
      "24        Modules in train mode\n",
      "0         Modules in eval mode\n"
     ]
    },
    {
     "data": {
      "application/vnd.jupyter.widget-view+json": {
       "model_id": "99f841faf68b4ffc96b44ac6ae46c40b",
       "version_major": 2,
       "version_minor": 0
      },
      "text/plain": [
       "Sanity Checking: |          | 0/? [00:00<?, ?it/s]"
      ]
     },
     "metadata": {},
     "output_type": "display_data"
    },
    {
     "name": "stderr",
     "output_type": "stream",
     "text": [
      "c:\\Users\\Plancha\\Desktop\\AML-homework\\.pixi\\envs\\gpu\\Lib\\site-packages\\lightning\\pytorch\\trainer\\connectors\\data_connector.py:425: The 'val_dataloader' does not have many workers which may be a bottleneck. Consider increasing the value of the `num_workers` argument` to `num_workers=15` in the `DataLoader` to improve performance.\n",
      "c:\\Users\\Plancha\\Desktop\\AML-homework\\.pixi\\envs\\gpu\\Lib\\site-packages\\lightning\\pytorch\\trainer\\connectors\\data_connector.py:425: The 'train_dataloader' does not have many workers which may be a bottleneck. Consider increasing the value of the `num_workers` argument` to `num_workers=15` in the `DataLoader` to improve performance.\n"
     ]
    },
    {
     "data": {
      "application/vnd.jupyter.widget-view+json": {
       "model_id": "bd7dc5165dbd4d91b94f6f3f71bf8d42",
       "version_major": 2,
       "version_minor": 0
      },
      "text/plain": [
       "Training: |          | 0/? [00:00<?, ?it/s]"
      ]
     },
     "metadata": {},
     "output_type": "display_data"
    },
    {
     "data": {
      "application/vnd.jupyter.widget-view+json": {
       "model_id": "638c475744b840efb3ca17eee33395e4",
       "version_major": 2,
       "version_minor": 0
      },
      "text/plain": [
       "Validation: |          | 0/? [00:00<?, ?it/s]"
      ]
     },
     "metadata": {},
     "output_type": "display_data"
    },
    {
     "data": {
      "application/vnd.jupyter.widget-view+json": {
       "model_id": "ae1a8183bc2144c6b622dcae0793989d",
       "version_major": 2,
       "version_minor": 0
      },
      "text/plain": [
       "Validation: |          | 0/? [00:00<?, ?it/s]"
      ]
     },
     "metadata": {},
     "output_type": "display_data"
    },
    {
     "data": {
      "application/vnd.jupyter.widget-view+json": {
       "model_id": "b7fc546f83c74713bec85362ea60c94a",
       "version_major": 2,
       "version_minor": 0
      },
      "text/plain": [
       "Validation: |          | 0/? [00:00<?, ?it/s]"
      ]
     },
     "metadata": {},
     "output_type": "display_data"
    },
    {
     "data": {
      "application/vnd.jupyter.widget-view+json": {
       "model_id": "fb44cc54a75f45eda2dccab8d9d5f311",
       "version_major": 2,
       "version_minor": 0
      },
      "text/plain": [
       "Validation: |          | 0/? [00:00<?, ?it/s]"
      ]
     },
     "metadata": {},
     "output_type": "display_data"
    },
    {
     "data": {
      "application/vnd.jupyter.widget-view+json": {
       "model_id": "03d05e3fa92e476cbc2415fff4fdb9c5",
       "version_major": 2,
       "version_minor": 0
      },
      "text/plain": [
       "Validation: |          | 0/? [00:00<?, ?it/s]"
      ]
     },
     "metadata": {},
     "output_type": "display_data"
    },
    {
     "data": {
      "application/vnd.jupyter.widget-view+json": {
       "model_id": "032460fcde3f41d79dd22977fb09a61a",
       "version_major": 2,
       "version_minor": 0
      },
      "text/plain": [
       "Validation: |          | 0/? [00:00<?, ?it/s]"
      ]
     },
     "metadata": {},
     "output_type": "display_data"
    },
    {
     "data": {
      "application/vnd.jupyter.widget-view+json": {
       "model_id": "58f52fc105e64fbf88262657464852b2",
       "version_major": 2,
       "version_minor": 0
      },
      "text/plain": [
       "Validation: |          | 0/? [00:00<?, ?it/s]"
      ]
     },
     "metadata": {},
     "output_type": "display_data"
    },
    {
     "data": {
      "application/vnd.jupyter.widget-view+json": {
       "model_id": "e8254cec969843dab6ff62b437955a39",
       "version_major": 2,
       "version_minor": 0
      },
      "text/plain": [
       "Validation: |          | 0/? [00:00<?, ?it/s]"
      ]
     },
     "metadata": {},
     "output_type": "display_data"
    },
    {
     "data": {
      "application/vnd.jupyter.widget-view+json": {
       "model_id": "ceefb3cf43aa44959d727c8bcf40eb84",
       "version_major": 2,
       "version_minor": 0
      },
      "text/plain": [
       "Validation: |          | 0/? [00:00<?, ?it/s]"
      ]
     },
     "metadata": {},
     "output_type": "display_data"
    },
    {
     "data": {
      "application/vnd.jupyter.widget-view+json": {
       "model_id": "18b3424158734b3f89635b4700b58950",
       "version_major": 2,
       "version_minor": 0
      },
      "text/plain": [
       "Validation: |          | 0/? [00:00<?, ?it/s]"
      ]
     },
     "metadata": {},
     "output_type": "display_data"
    },
    {
     "name": "stderr",
     "output_type": "stream",
     "text": [
      "`Trainer.fit` stopped: `max_epochs=10` reached.\n"
     ]
    }
   ],
   "source": [
    "torch.set_float32_matmul_precision(\"high\")\n",
    "keras.utils.set_random_seed(1)\n",
    "trainer = L.Trainer(\n",
    "  max_epochs=10,\n",
    "  default_root_dir=str(here(\"cache\")),\n",
    "  enable_checkpointing=False,\n",
    ")\n",
    "out = trainer.fit(\n",
    "  model=frozen_alex_net,\n",
    "  train_dataloaders=train_dataloader,\n",
    "  val_dataloaders=val_dataloader,\n",
    ")\n",
    "out"
   ]
  },
  {
   "cell_type": "code",
   "execution_count": 7,
   "id": "0f0b692f",
   "metadata": {},
   "outputs": [
    {
     "name": "stderr",
     "output_type": "stream",
     "text": [
      "LOCAL_RANK: 0 - CUDA_VISIBLE_DEVICES: [0]\n",
      "c:\\Users\\Plancha\\Desktop\\AML-homework\\.pixi\\envs\\gpu\\Lib\\site-packages\\lightning\\pytorch\\trainer\\connectors\\data_connector.py:425: The 'test_dataloader' does not have many workers which may be a bottleneck. Consider increasing the value of the `num_workers` argument` to `num_workers=15` in the `DataLoader` to improve performance.\n"
     ]
    },
    {
     "data": {
      "application/vnd.jupyter.widget-view+json": {
       "model_id": "db78c5521c96478ea574f3f776c6150e",
       "version_major": 2,
       "version_minor": 0
      },
      "text/plain": [
       "Testing: |          | 0/? [00:00<?, ?it/s]"
      ]
     },
     "metadata": {},
     "output_type": "display_data"
    },
    {
     "data": {
      "text/html": [
       "<pre style=\"white-space:pre;overflow-x:auto;line-height:normal;font-family:Menlo,'DejaVu Sans Mono',consolas,'Courier New',monospace\">┏━━━━━━━━━━━━━━━━━━━━━━━━━━━┳━━━━━━━━━━━━━━━━━━━━━━━━━━━┓\n",
       "┃<span style=\"font-weight: bold\">        Test metric        </span>┃<span style=\"font-weight: bold\">       DataLoader 0        </span>┃\n",
       "┡━━━━━━━━━━━━━━━━━━━━━━━━━━━╇━━━━━━━━━━━━━━━━━━━━━━━━━━━┩\n",
       "│<span style=\"color: #008080; text-decoration-color: #008080\">         test_acc          </span>│<span style=\"color: #800080; text-decoration-color: #800080\">    0.9631901979446411     </span>│\n",
       "│<span style=\"color: #008080; text-decoration-color: #008080\">         test_loss         </span>│<span style=\"color: #800080; text-decoration-color: #800080\">    0.11587048321962357    </span>│\n",
       "└───────────────────────────┴───────────────────────────┘\n",
       "</pre>\n"
      ],
      "text/plain": [
       "┏━━━━━━━━━━━━━━━━━━━━━━━━━━━┳━━━━━━━━━━━━━━━━━━━━━━━━━━━┓\n",
       "┃\u001b[1m \u001b[0m\u001b[1m       Test metric       \u001b[0m\u001b[1m \u001b[0m┃\u001b[1m \u001b[0m\u001b[1m      DataLoader 0       \u001b[0m\u001b[1m \u001b[0m┃\n",
       "┡━━━━━━━━━━━━━━━━━━━━━━━━━━━╇━━━━━━━━━━━━━━━━━━━━━━━━━━━┩\n",
       "│\u001b[36m \u001b[0m\u001b[36m        test_acc         \u001b[0m\u001b[36m \u001b[0m│\u001b[35m \u001b[0m\u001b[35m   0.9631901979446411    \u001b[0m\u001b[35m \u001b[0m│\n",
       "│\u001b[36m \u001b[0m\u001b[36m        test_loss        \u001b[0m\u001b[36m \u001b[0m│\u001b[35m \u001b[0m\u001b[35m   0.11587048321962357   \u001b[0m\u001b[35m \u001b[0m│\n",
       "└───────────────────────────┴───────────────────────────┘\n"
      ]
     },
     "metadata": {},
     "output_type": "display_data"
    },
    {
     "data": {
      "text/plain": [
       "[{'test_loss': 0.11587048321962357, 'test_acc': 0.9631901979446411}]"
      ]
     },
     "execution_count": 7,
     "metadata": {},
     "output_type": "execute_result"
    }
   ],
   "source": [
    "out_test = trainer.test(model=frozen_alex_net, dataloaders=test_dataloader)\n",
    "out_test"
   ]
  },
  {
   "cell_type": "code",
   "execution_count": 8,
   "id": "436e23e0",
   "metadata": {},
   "outputs": [
    {
     "data": {
      "text/plain": [
       "[Metrics(loss=np.float64(3.283200740814209), accuracy=np.float64(0.0)),\n",
       " Metrics(loss=np.float64(1.2414313714171565), accuracy=np.float64(0.6395348837209303)),\n",
       " Metrics(loss=np.float64(0.7539619723724764), accuracy=np.float64(0.7877627465614053)),\n",
       " Metrics(loss=np.float64(0.5733092416857564), accuracy=np.float64(0.7888249110343845)),\n",
       " Metrics(loss=np.float64(0.26431026023834253), accuracy=np.float64(0.931434481642967)),\n",
       " Metrics(loss=np.float64(0.21588698185460511), accuracy=np.float64(0.9339780862941298)),\n",
       " Metrics(loss=np.float64(0.14166090260584688), accuracy=np.float64(0.9706786676894786)),\n",
       " Metrics(loss=np.float64(0.12778424891794837), accuracy=np.float64(0.9766603313213171)),\n",
       " Metrics(loss=np.float64(0.11784055142468491), accuracy=np.float64(0.9686661452748054)),\n",
       " Metrics(loss=np.float64(0.09648275114379304), accuracy=np.float64(0.9726632382980612)),\n",
       " Metrics(loss=np.float64(0.05008299512312163), accuracy=np.float64(0.9901050987631775))]"
      ]
     },
     "execution_count": 8,
     "metadata": {},
     "output_type": "execute_result"
    }
   ],
   "source": [
    "frozen_alex_net.results"
   ]
  },
  {
   "cell_type": "code",
   "execution_count": 9,
   "id": "0907eeb4",
   "metadata": {},
   "outputs": [
    {
     "data": {
      "image/png": "[encoded data removed]",
      "text/plain": [
       "<Figure size 1000x1000 with 2 Axes>"
      ]
     },
     "metadata": {},
     "output_type": "display_data"
    }
   ],
   "source": [
    "metrics = pd.DataFrame(\n",
    "  [(i, m.loss, m.accuracy) for i, m in enumerate(frozen_alex_net.results)],\n",
    "  columns=[\"epoch\", \"loss\", \"accuracy\"],\n",
    ").set_index(\"epoch\")\n",
    "import matplotlib.pyplot as plt\n",
    "\n",
    "fig, axes = plt.subplots(2, 1, figsize=(10, 10), sharex=True)\n",
    "\n",
    "# Plot Loss\n",
    "axes[0].plot(metrics.index, metrics[\"loss\"], marker=\"o\", color=\"tab:red\")\n",
    "axes[0].set_ylabel(\"Loss\")\n",
    "axes[0].set_title(\"Training Loss per Epoch\")\n",
    "axes[0].grid(True, linestyle=\"--\", alpha=0.5)\n",
    "\n",
    "# Plot Accuracy\n",
    "axes[1].plot(metrics.index, metrics[\"accuracy\"], marker=\"s\", color=\"tab:blue\")\n",
    "axes[1].set_xlabel(\"Epoch\")\n",
    "axes[1].set_ylabel(\"Accuracy\")\n",
    "axes[1].set_title(\"Training Accuracy per Epoch\")\n",
    "axes[1].set_ylim(0, 1)  # Show accuracy between 0 and 1\n",
    "axes[1].grid(True, linestyle=\"--\", alpha=0.5)\n",
    "\n",
    "plt.tight_layout()\n",
    "plt.show()"
   ]
  },
  {
   "cell_type": "code",
   "execution_count": 10,
   "id": "be3552de",
   "metadata": {},
   "outputs": [],
   "source": [
    "# save model\n",
    "torch.save(frozen_alex_net.state_dict(), str(here(\"models/frozen_alex_net.pth\")))"
   ]
  }
 ],
 "metadata": {
  "kernelspec": {
   "display_name": "gpu",
   "language": "python",
   "name": "python3"
  },
  "language_info": {
   "codemirror_mode": {
    "name": "ipython",
    "version": 3
   },
   "file_extension": ".py",
   "mimetype": "text/x-python",
   "name": "python",
   "nbconvert_exporter": "python",
   "pygments_lexer": "ipython3",
   "version": "3.12.10"
  }
 },
 "nbformat": 4,
 "nbformat_minor": 5
}
